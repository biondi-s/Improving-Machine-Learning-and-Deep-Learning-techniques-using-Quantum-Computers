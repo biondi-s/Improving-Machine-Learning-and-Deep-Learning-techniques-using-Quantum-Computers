{
 "cells": [
  {
   "cell_type": "markdown",
   "id": "1fde49d9-0b6f-42ab-858f-affa27942467",
   "metadata": {},
   "source": [
    "# Two Qubits Entangled - Bell State"
   ]
  },
  {
   "cell_type": "code",
   "execution_count": 1,
   "id": "e2b48726-73ef-4dc1-8109-4832d229ca84",
   "metadata": {},
   "outputs": [],
   "source": [
    "from pyquil.quil import Program\n",
    "from pyquil.gates import *\n",
    "from pyquil import get_qc\n",
    "import numpy as np\n",
    "import pandas as pd"
   ]
  },
  {
   "cell_type": "markdown",
   "id": "9c585b43-c0df-45b8-8e15-c453f032d453",
   "metadata": {},
   "source": [
    "Results after 10,000 run. The states are:"
   ]
  },
  {
   "cell_type": "markdown",
   "id": "ee715135-367a-4291-b150-4b2a4d7070ff",
   "metadata": {},
   "source": [
    "|Index|Quantum State|\n",
    "|:---------:|:---------:|\n",
    "|0|\\|00>|\n",
    "|1|\\|01>|\n",
    "|2|\\|10>|\n",
    "|3|\\|11>|"
   ]
  },
  {
   "cell_type": "code",
   "execution_count": 2,
   "id": "69c15fb5-d15a-4092-9a99-8fdeeb6eaf41",
   "metadata": {},
   "outputs": [],
   "source": [
    "def create_bell_circuit(qubit_list):\n",
    "    n_qubit = len(qubit_list)\n",
    "    assert len(qubit_list) == 2\n",
    "    circuit = Program()\n",
    "    circuit += H(qubit_list[0])\n",
    "    circuit += CNOT(qubit_list[0],qubit_list[1])\n",
    "    ro = circuit.declare('ro', 'BIT', n_qubit)\n",
    "    for i in range(n_qubit):\n",
    "        circuit += MEASURE(qubit_list[i], ro[i])\n",
    "    return circuit"
   ]
  },
  {
   "cell_type": "code",
   "execution_count": 3,
   "id": "40bb172a-e589-43a9-9443-d97aea986e90",
   "metadata": {},
   "outputs": [],
   "source": [
    "def run_circuit(circuit, qubit_list, qvm):\n",
    "    n = len(qubit_list)\n",
    "    exp_array = np.array([1,2])\n",
    "    shots = 10**4\n",
    "    circuit.wrap_in_numshots_loop(shots)\n",
    "    #qc = get_qc('3q-qvm')  # You can make any 'nq-qvm' this way for any reasonable 'n'\n",
    "    qc = get_qc(\"Aspen-M-1\", as_qvm=qvm, execution_timeout=60)\n",
    "    executable = qc.compile(circuit)\n",
    "    result = qc.run(executable)\n",
    "    bitstrings = result.readout_data.get('ro')[:,:n]\n",
    "    results = bitstrings.dot(exp_array)\n",
    "    unique_elements, counts_elements = np.unique(results, return_counts=True)\n",
    "    print(pd.DataFrame(counts_elements, index = unique_elements,columns=[\"N\"]))"
   ]
  },
  {
   "cell_type": "markdown",
   "id": "52334aad-5fef-402d-a37c-a7381d23da46",
   "metadata": {},
   "source": [
    "## Simulator"
   ]
  },
  {
   "cell_type": "code",
   "execution_count": 4,
   "id": "45a7f942-84b3-4c37-8a05-d64d52533f21",
   "metadata": {},
   "outputs": [],
   "source": [
    "qubit_list = [0,1]"
   ]
  },
  {
   "cell_type": "code",
   "execution_count": 5,
   "id": "de735fd3-7561-4f12-855e-7daabe8c665e",
   "metadata": {},
   "outputs": [],
   "source": [
    "circuit = create_bell_circuit(qubit_list)"
   ]
  },
  {
   "cell_type": "code",
   "execution_count": 6,
   "id": "09ed81c9-8e15-491a-9618-8d80157f8c9c",
   "metadata": {},
   "outputs": [
    {
     "name": "stdout",
     "output_type": "stream",
     "text": [
      "      N\n",
      "0  5075\n",
      "3  4925\n"
     ]
    }
   ],
   "source": [
    "run_circuit(circuit, qubit_list, qvm = True)"
   ]
  },
  {
   "cell_type": "markdown",
   "id": "a5b5b2ee-6147-4104-9885-570ca36ddfee",
   "metadata": {},
   "source": [
    "## Real Quantum Computer"
   ]
  },
  {
   "cell_type": "markdown",
   "id": "86a540cb-990a-4582-9526-9226b066b47a",
   "metadata": {},
   "source": [
    "### Best qubit in term of fidelity on the Aspen-M-1 Rigetti Processor:"
   ]
  },
  {
   "cell_type": "code",
   "execution_count": 7,
   "id": "5e8e504a-647d-422a-86bb-81847ebf6d28",
   "metadata": {},
   "outputs": [],
   "source": [
    "qubit_list = [17,114] #Aspen-M-1"
   ]
  },
  {
   "cell_type": "code",
   "execution_count": 8,
   "id": "2f921e98-ba48-4772-9d18-212253896706",
   "metadata": {},
   "outputs": [
    {
     "name": "stdout",
     "output_type": "stream",
     "text": [
      "      N\n",
      "0  5119\n",
      "1  1044\n",
      "2   143\n",
      "3  3694\n"
     ]
    }
   ],
   "source": [
    "circuit = create_bell_circuit(qubit_list)\n",
    "run_circuit(circuit, qubit_list, qvm = False)"
   ]
  },
  {
   "cell_type": "markdown",
   "id": "a4750ff1-21cd-4ace-8436-fc7291163a62",
   "metadata": {},
   "source": [
    "### Wrost qubit in term of fidelity on the Aspen-M-1 Rigetti Processor:"
   ]
  },
  {
   "cell_type": "code",
   "execution_count": 9,
   "id": "c5551826-dcb5-497b-b8fa-95bf3fdee21b",
   "metadata": {},
   "outputs": [],
   "source": [
    "qubit_list = [20,123] #Aspen-M-1"
   ]
  },
  {
   "cell_type": "code",
   "execution_count": 10,
   "id": "23fa57b6-7999-4f0d-b49e-e2c845a51e13",
   "metadata": {},
   "outputs": [
    {
     "name": "stdout",
     "output_type": "stream",
     "text": [
      "      N\n",
      "0  6256\n",
      "1  2427\n",
      "2   668\n",
      "3   649\n"
     ]
    }
   ],
   "source": [
    "circuit = create_bell_circuit(qubit_list)\n",
    "run_circuit(circuit, qubit_list, qvm = False)"
   ]
  }
 ],
 "metadata": {
  "kernelspec": {
   "display_name": "Python 3 (ipykernel)",
   "language": "python",
   "name": "python3"
  },
  "language_info": {
   "codemirror_mode": {
    "name": "ipython",
    "version": 3
   },
   "file_extension": ".py",
   "mimetype": "text/x-python",
   "name": "python",
   "nbconvert_exporter": "python",
   "pygments_lexer": "ipython3",
   "version": "3.7.9"
  }
 },
 "nbformat": 4,
 "nbformat_minor": 5
}
