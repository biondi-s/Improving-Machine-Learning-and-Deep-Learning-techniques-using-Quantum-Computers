{
 "cells": [
  {
   "cell_type": "markdown",
   "id": "1fde49d9-0b6f-42ab-858f-affa27942467",
   "metadata": {},
   "source": [
    "# Grover Algorithm - 2 and 3 qubits\n",
    "$$\\newcommand{\\ket}[1]{\\left|{#1}\\right\\rangle}$$\n",
    "$$\\newcommand{\\bra}[1]{\\left\\langle{#1}\\right|}$$\n",
    "$$\\newcommand{\\braket}[2]{\\left\\langle{#1}\\middle|{#2}\\right\\rangle}$$"
   ]
  },
  {
   "cell_type": "code",
   "execution_count": 1,
   "id": "e2b48726-73ef-4dc1-8109-4832d229ca84",
   "metadata": {},
   "outputs": [],
   "source": [
    "from pyquil.quil import Program\n",
    "from pyquil.gates import *\n",
    "from pyquil import get_qc\n",
    "import numpy as np\n",
    "import pandas as pd"
   ]
  },
  {
   "cell_type": "code",
   "execution_count": 2,
   "id": "ab744b2e-7534-4d74-bb2c-fc12a21e80ce",
   "metadata": {},
   "outputs": [],
   "source": [
    "def create_grover_circuit(oracle, core_phase, qubit_list):\n",
    "    n_qubit = len(qubit_list)\n",
    "    circuit = Program()\n",
    "    for i in range(n_qubit):\n",
    "        circuit += H(qubit_list[i])\n",
    "    for gate in oracle:\n",
    "        circuit += gate    \n",
    "    # Start Inversion About the Mean\n",
    "    for i in range(n_qubit):\n",
    "        circuit += H(qubit_list[i])   \n",
    "    for gate in core_phase:\n",
    "        circuit += gate\n",
    "    for i in range(n_qubit):\n",
    "        circuit += H(qubit_list[i])\n",
    "    # End Inversion About the Mean        \n",
    "    ro = circuit.declare('ro', 'BIT', n_qubit)\n",
    "    for i in range(n_qubit):\n",
    "        circuit += MEASURE(qubit_list[i], ro[i])\n",
    "    return circuit"
   ]
  },
  {
   "cell_type": "code",
   "execution_count": 3,
   "id": "f15e1030-b95b-4b6f-8e02-5227d63330bc",
   "metadata": {},
   "outputs": [],
   "source": [
    "def run_circuit(circuit, qubit_list, qvm):\n",
    "    n = len(qubit_list)\n",
    "    exp_array = np.array([])\n",
    "    for i in range(n):\n",
    "        exp_array = np.append(exp_array,2**i)\n",
    "    shots = 10**4\n",
    "    circuit.wrap_in_numshots_loop(shots)\n",
    "    #qc = get_qc('4q-qvm')  # You can make any 'nq-qvm' this way for any reasonable 'n'\n",
    "    qc = get_qc(\"Aspen-M-1\", as_qvm=qvm, execution_timeout=60)\n",
    "    executable = qc.compile(circuit)\n",
    "    result = qc.run(executable)\n",
    "    bitstrings = result.readout_data.get('ro')[:,:n]\n",
    "    results = bitstrings.dot(exp_array)\n",
    "    unique_elements, counts_elements = np.unique(results, return_counts=True)\n",
    "    print(pd.DataFrame(counts_elements, index = unique_elements,columns=[\"N\"]))"
   ]
  },
  {
   "cell_type": "markdown",
   "id": "72326fb6-c75c-4b5f-ac85-99a55a1b421b",
   "metadata": {
    "tags": []
   },
   "source": [
    "## 2 Qubits "
   ]
  },
  {
   "cell_type": "markdown",
   "id": "86a540cb-990a-4582-9526-9226b066b47a",
   "metadata": {},
   "source": [
    "Best qubit in term of fidelity on the Aspen-M-1 Rigetti Processor:"
   ]
  },
  {
   "cell_type": "markdown",
   "id": "a55a96f0-bf2b-4eed-ace7-045eca64c4fc",
   "metadata": {},
   "source": [
    "\\begin{align}\n",
    "f(x_0,x_1) = x_0\\cdot x_1\\;\\;\\; \\Rightarrow \\;\\;\\; U_f\\ket{x}=(-1)^{x_0\\cdot x_1}\\ket{x}\n",
    "\\end{align}"
   ]
  },
  {
   "cell_type": "code",
   "execution_count": 4,
   "id": "8e925177-bbc0-43f4-87e2-523b1d2eeac4",
   "metadata": {},
   "outputs": [],
   "source": [
    "#Aspen-M-1-----------\n",
    "q_0 = 17\n",
    "q_1 = 114\n",
    "\n",
    "qubit_list = [q_0,q_1]\n",
    "oracle = [CZ(q_0,q_1)]\n",
    "core_phase = [Z(q_0),Z(q_1),CZ(q_0,q_1)]"
   ]
  },
  {
   "cell_type": "code",
   "execution_count": 5,
   "id": "45ef784f-5737-4f52-97c6-dafc852cdc0a",
   "metadata": {},
   "outputs": [],
   "source": [
    "circuit = create_grover_circuit(oracle, core_phase, qubit_list)"
   ]
  },
  {
   "cell_type": "code",
   "execution_count": 6,
   "id": "822f6f08-e785-4c0b-bf4e-074beb4bb4ca",
   "metadata": {},
   "outputs": [
    {
     "name": "stdout",
     "output_type": "stream",
     "text": [
      "         N\n",
      "3.0  10000\n"
     ]
    }
   ],
   "source": [
    "run_circuit(circuit, qubit_list, qvm = True)"
   ]
  },
  {
   "cell_type": "code",
   "execution_count": 7,
   "id": "c3b19e03-0350-4294-863b-7c82727b1c84",
   "metadata": {},
   "outputs": [
    {
     "name": "stdout",
     "output_type": "stream",
     "text": [
      "        N\n",
      "0.0    28\n",
      "1.0  1657\n",
      "2.0   131\n",
      "3.0  8184\n"
     ]
    }
   ],
   "source": [
    "run_circuit(circuit, qubit_list, qvm = False)"
   ]
  },
  {
   "cell_type": "markdown",
   "id": "36d5bc4b-4977-4789-bd10-cfbfcc2b114c",
   "metadata": {},
   "source": [
    "Results after 10,000 run. The states are:"
   ]
  },
  {
   "cell_type": "markdown",
   "id": "ee1fe20c-a551-49fb-9ff6-dec33b86828e",
   "metadata": {},
   "source": [
    "|Index|Quantum State|\n",
    "|:---------:|:---------:|\n",
    "|0|\\|00>|\n",
    "|1|\\|01>|\n",
    "|2|\\|10>|\n",
    "|3|\\|11>|"
   ]
  },
  {
   "cell_type": "markdown",
   "id": "44004dd8-03fb-443d-b63f-d8c0fd378666",
   "metadata": {
    "tags": []
   },
   "source": [
    "## 3 Qubits "
   ]
  },
  {
   "cell_type": "markdown",
   "id": "262f587c-31ab-4960-8b1e-32df95471492",
   "metadata": {},
   "source": [
    "Best qubit in term of fidelity on the Aspen-M-1 Rigetti Processor:"
   ]
  },
  {
   "cell_type": "code",
   "execution_count": 8,
   "id": "2641412f-d440-4dfc-bcd3-11d718e0776e",
   "metadata": {},
   "outputs": [],
   "source": [
    "#Aspen-M-1-----------\n",
    "q_0 = 35\n",
    "q_1 = 21\n",
    "q_2 = 36\n",
    "\n",
    "qubit_list = [q_0,q_1,q_2]\n",
    "oracle = [CZ(q_0,q_2),CZ(q_1,q_2)]\n",
    "core_phase = [X(q_0),X(q_1),X(q_2),Z(q_2).controlled(q_0).controlled(q_1),X(q_0),X(q_1),X(q_2)]"
   ]
  },
  {
   "cell_type": "code",
   "execution_count": 9,
   "id": "7c02a896-dd56-4756-ae6c-402aae2c0157",
   "metadata": {},
   "outputs": [],
   "source": [
    "circuit = create_grover_circuit(oracle, core_phase, qubit_list)"
   ]
  },
  {
   "cell_type": "code",
   "execution_count": 10,
   "id": "f887c797-1ec9-4f88-988d-45925de0c0f8",
   "metadata": {},
   "outputs": [
    {
     "name": "stdout",
     "output_type": "stream",
     "text": [
      "        N\n",
      "5.0  5030\n",
      "6.0  4970\n"
     ]
    }
   ],
   "source": [
    "run_circuit(circuit, qubit_list, qvm = True)"
   ]
  },
  {
   "cell_type": "code",
   "execution_count": 11,
   "id": "523e0e4b-c674-42a4-a411-32da1f55ed9d",
   "metadata": {},
   "outputs": [
    {
     "name": "stdout",
     "output_type": "stream",
     "text": [
      "        N\n",
      "0.0   184\n",
      "1.0   324\n",
      "2.0   661\n",
      "3.0   332\n",
      "4.0   534\n",
      "5.0  3293\n",
      "6.0  4233\n",
      "7.0   439\n"
     ]
    }
   ],
   "source": [
    "run_circuit(circuit, qubit_list, qvm = False)"
   ]
  },
  {
   "cell_type": "markdown",
   "id": "d8a682e6-2372-4254-aa51-023db071c391",
   "metadata": {},
   "source": [
    "Results after 10,000 run. The states are:"
   ]
  },
  {
   "cell_type": "markdown",
   "id": "069eae02-f01a-460d-b115-d8ee4e416eb5",
   "metadata": {},
   "source": [
    "|Index|Quantum State|\n",
    "|:---------:|:---------:|\n",
    "|0|\\|000>|\n",
    "|1|\\|001>|\n",
    "|2|\\|010>|\n",
    "|3|\\|011>|\n",
    "|4|\\|100>|\n",
    "|5|\\|101>|\n",
    "|6|\\|110>|\n",
    "|7|\\|111>|\n"
   ]
  }
 ],
 "metadata": {
  "kernelspec": {
   "display_name": "Python 3 (ipykernel)",
   "language": "python",
   "name": "python3"
  },
  "language_info": {
   "codemirror_mode": {
    "name": "ipython",
    "version": 3
   },
   "file_extension": ".py",
   "mimetype": "text/x-python",
   "name": "python",
   "nbconvert_exporter": "python",
   "pygments_lexer": "ipython3",
   "version": "3.7.9"
  }
 },
 "nbformat": 4,
 "nbformat_minor": 5
}
