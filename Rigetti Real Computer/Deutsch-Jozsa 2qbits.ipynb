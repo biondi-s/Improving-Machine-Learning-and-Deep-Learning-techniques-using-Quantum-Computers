{
 "cells": [
  {
   "cell_type": "markdown",
   "id": "d491cd62",
   "metadata": {},
   "source": [
    "# Deutsch-Jozsa with 2 qubits\n",
    "$$\\newcommand{\\ket}[1]{\\left|{#1}\\right\\rangle}$$\n",
    "$$\\newcommand{\\bra}[1]{\\left\\langle{#1}\\right|}$$\n",
    "$$\\newcommand{\\braket}[2]{\\left\\langle{#1}\\middle|{#2}\\right\\rangle}$$"
   ]
  },
  {
   "cell_type": "code",
   "execution_count": 1,
   "id": "c2fe436d",
   "metadata": {},
   "outputs": [],
   "source": [
    "from pyquil.quil import Program\n",
    "from pyquil.gates import *\n",
    "from pyquil import get_qc\n",
    "import numpy as np\n",
    "import pandas as pd"
   ]
  },
  {
   "cell_type": "code",
   "execution_count": 2,
   "id": "fba7c947-0233-4075-a41b-7f4a35000245",
   "metadata": {},
   "outputs": [],
   "source": [
    "def create_dj_circuit(oracle, qubit_list):\n",
    "    n_qubit = len(qubit_list)\n",
    "    circuit = Program()\n",
    "    circuit += X(qubit_list[-1])\n",
    "    for i in range(n_qubit):\n",
    "        circuit += H(qubit_list[i])\n",
    "    for gate in oracle:\n",
    "        circuit += gate\n",
    "    for i in range(n_qubit):\n",
    "        circuit += H(qubit_list[i])    \n",
    "    ro = circuit.declare('ro', 'BIT', n_qubit)\n",
    "    for i in range(n_qubit - 1):\n",
    "        circuit += MEASURE(qubit_list[i], ro[i])\n",
    "    return circuit"
   ]
  },
  {
   "cell_type": "code",
   "execution_count": 3,
   "id": "1153b3f5-717e-4fe2-b854-82be00331fdc",
   "metadata": {},
   "outputs": [],
   "source": [
    "def run_circuit(circuit, qubit_list, qvm):    \n",
    "    n = len(qubit_list) - 1\n",
    "    exp_array = np.array([])\n",
    "    for i in range(n):\n",
    "        exp_array = np.append(exp_array,2**i)\n",
    "    shots = 10**4\n",
    "    circuit.wrap_in_numshots_loop(shots)\n",
    "    #qc = get_qc('3q-qvm')  # You can make any 'nq-qvm' this way for any reasonable 'n'\n",
    "    qc = get_qc(\"Aspen-M-1\", as_qvm=qvm, execution_timeout=60)\n",
    "    executable = qc.compile(circuit)\n",
    "    result = qc.run(executable)\n",
    "    bitstrings = result.readout_data.get('ro')[:,:n]\n",
    "    results = bitstrings.dot(exp_array)\n",
    "    unique_elements, counts_elements = np.unique(results, return_counts=True)\n",
    "    print(pd.DataFrame(counts_elements, index = unique_elements,columns=[\"N\"]))"
   ]
  },
  {
   "cell_type": "markdown",
   "id": "429cc328",
   "metadata": {},
   "source": [
    "10,000 runs. The states are:"
   ]
  },
  {
   "cell_type": "markdown",
   "id": "da870b34",
   "metadata": {},
   "source": [
    "|Index|Quantum State|\n",
    "|:---------:|:---------:|\n",
    "|0|\\|00>|\n",
    "|1|\\|01>|\n",
    "|2|\\|10>|\n",
    "|3|\\|11>|"
   ]
  },
  {
   "cell_type": "markdown",
   "id": "18b385d0-0d57-4393-b863-a87043451cf2",
   "metadata": {},
   "source": [
    "Best qubit in term of fidelity on the Aspen-M-1 Rigetti Processor:"
   ]
  },
  {
   "cell_type": "code",
   "execution_count": 4,
   "id": "8512583d-30ca-4366-857c-c3d185e176f3",
   "metadata": {},
   "outputs": [],
   "source": [
    "qubit_list = [35,21,36] #Aspen-M-1"
   ]
  },
  {
   "cell_type": "markdown",
   "id": "2dfd1c92",
   "metadata": {},
   "source": [
    "## Constant functions"
   ]
  },
  {
   "cell_type": "markdown",
   "id": "a6910661",
   "metadata": {},
   "source": [
    "\\begin{align}\n",
    "f(x_0,x_1) = 0\\;\\;\\; \\Rightarrow \\;\\;\\; U_f\\ket{x}=(-1)^{0}\\ket{x} = \\ket{x}\n",
    "\\end{align}\n"
   ]
  },
  {
   "cell_type": "code",
   "execution_count": 5,
   "id": "dc934942-fc66-4d96-ab34-9719ca6160f4",
   "metadata": {},
   "outputs": [],
   "source": [
    "oracle = []\n",
    "circuit = create_dj_circuit(oracle, qubit_list)"
   ]
  },
  {
   "cell_type": "code",
   "execution_count": 6,
   "id": "80ba12e7-4d85-4f9f-89ee-b98ea6668d07",
   "metadata": {},
   "outputs": [
    {
     "name": "stdout",
     "output_type": "stream",
     "text": [
      "         N\n",
      "0.0  10000\n"
     ]
    }
   ],
   "source": [
    "run_circuit(circuit, qubit_list, qvm = True)"
   ]
  },
  {
   "cell_type": "code",
   "execution_count": 7,
   "id": "5d7ab422-e1c9-494b-8104-09f466f9dd5a",
   "metadata": {},
   "outputs": [
    {
     "name": "stdout",
     "output_type": "stream",
     "text": [
      "        N\n",
      "0.0  9839\n",
      "1.0    51\n",
      "2.0   110\n"
     ]
    }
   ],
   "source": [
    "run_circuit(circuit, qubit_list, qvm = False)"
   ]
  },
  {
   "cell_type": "markdown",
   "id": "eb63a487",
   "metadata": {},
   "source": [
    "\\begin{align}\n",
    "f(x_0,x_1) = 1\\;\\;\\; \\Rightarrow \\;\\;\\; U_f\\ket{x}=(-1)^{1}\\ket{x} = -\\ket{x}\n",
    "\\end{align}"
   ]
  },
  {
   "cell_type": "code",
   "execution_count": 8,
   "id": "a210aab9-fa8c-4673-a359-71f49d4d87ca",
   "metadata": {},
   "outputs": [],
   "source": [
    "oracle = [X(qubit_list[0])]\n",
    "circuit = create_dj_circuit(oracle, qubit_list)"
   ]
  },
  {
   "cell_type": "code",
   "execution_count": 9,
   "id": "c70c87ac-7da8-4717-9e9e-08dd2b57ab8d",
   "metadata": {},
   "outputs": [
    {
     "name": "stdout",
     "output_type": "stream",
     "text": [
      "         N\n",
      "0.0  10000\n"
     ]
    }
   ],
   "source": [
    "run_circuit(circuit, qubit_list, qvm = True)"
   ]
  },
  {
   "cell_type": "code",
   "execution_count": 10,
   "id": "a7bb6911-9c92-48cd-8d38-bf59132ac6fc",
   "metadata": {},
   "outputs": [
    {
     "name": "stdout",
     "output_type": "stream",
     "text": [
      "        N\n",
      "0.0  9823\n",
      "1.0    53\n",
      "2.0   123\n",
      "3.0     1\n"
     ]
    }
   ],
   "source": [
    "run_circuit(circuit, qubit_list, qvm = False)"
   ]
  },
  {
   "cell_type": "markdown",
   "id": "2c1ce0c8",
   "metadata": {},
   "source": [
    "# Balanced Functions"
   ]
  },
  {
   "cell_type": "markdown",
   "id": "b3e150c2",
   "metadata": {},
   "source": [
    "\\begin{align}\n",
    "f(x_0,x_1) = x_0\\;\\;\\; \\Rightarrow \\;\\;\\; U_f\\ket{x}=(-1)^{x_0}\\ket{x}\n",
    "\\end{align}"
   ]
  },
  {
   "cell_type": "code",
   "execution_count": 11,
   "id": "875bc68a-1b49-4e55-acc3-bad1733f681c",
   "metadata": {},
   "outputs": [],
   "source": [
    "oracle = [CNOT(qubit_list[0],qubit_list[2])]\n",
    "circuit = create_dj_circuit(oracle, qubit_list)"
   ]
  },
  {
   "cell_type": "code",
   "execution_count": 12,
   "id": "0666fcbe-6117-4d3f-afcc-1f86cf0f8b20",
   "metadata": {},
   "outputs": [
    {
     "name": "stdout",
     "output_type": "stream",
     "text": [
      "         N\n",
      "1.0  10000\n"
     ]
    }
   ],
   "source": [
    "run_circuit(circuit, qubit_list, qvm = True)"
   ]
  },
  {
   "cell_type": "code",
   "execution_count": 13,
   "id": "72dac705-631f-41ba-94a1-c70d601ba629",
   "metadata": {},
   "outputs": [
    {
     "name": "stdout",
     "output_type": "stream",
     "text": [
      "        N\n",
      "0.0   683\n",
      "1.0  9123\n",
      "2.0    28\n",
      "3.0   166\n"
     ]
    }
   ],
   "source": [
    "run_circuit(circuit, qubit_list, qvm = False)"
   ]
  },
  {
   "cell_type": "markdown",
   "id": "8d2eba70",
   "metadata": {},
   "source": [
    "\\begin{align}\n",
    "f(x_0,x_1) = x_1\\;\\;\\; \\Rightarrow \\;\\;\\; U_f\\ket{x}=(-1)^{x_1}\\ket{x}\n",
    "\\end{align}"
   ]
  },
  {
   "cell_type": "code",
   "execution_count": 14,
   "id": "bfa4e287-0c52-4281-8873-141e3d2b2fca",
   "metadata": {},
   "outputs": [],
   "source": [
    "oracle = [CNOT(qubit_list[1],qubit_list[2])]\n",
    "circuit = create_dj_circuit(oracle, qubit_list)"
   ]
  },
  {
   "cell_type": "code",
   "execution_count": 15,
   "id": "4d6622aa-4cfe-459d-909d-93191b725754",
   "metadata": {},
   "outputs": [
    {
     "name": "stdout",
     "output_type": "stream",
     "text": [
      "         N\n",
      "2.0  10000\n"
     ]
    }
   ],
   "source": [
    "run_circuit(circuit, qubit_list, qvm = True)"
   ]
  },
  {
   "cell_type": "code",
   "execution_count": 16,
   "id": "b65791d2-b131-4350-b2bc-0b55d7b81886",
   "metadata": {},
   "outputs": [
    {
     "name": "stdout",
     "output_type": "stream",
     "text": [
      "        N\n",
      "0.0  1893\n",
      "1.0    21\n",
      "2.0  8038\n",
      "3.0    48\n"
     ]
    }
   ],
   "source": [
    "run_circuit(circuit, qubit_list, qvm = False)"
   ]
  },
  {
   "cell_type": "markdown",
   "id": "42fb23c4",
   "metadata": {},
   "source": [
    "\\begin{align}\n",
    "f(x_0,x_1) = x_0 + x_1\\;\\;\\; \\Rightarrow \\;\\;\\; U_f\\ket{x}=(-1)^{(x_0+x_1)}\\ket{x}\n",
    "\\end{align}"
   ]
  },
  {
   "cell_type": "code",
   "execution_count": 17,
   "id": "b3708120-40fd-4fdb-8d3e-d748a53bf4fc",
   "metadata": {},
   "outputs": [],
   "source": [
    "oracle = [CNOT(qubit_list[0],qubit_list[2]),CNOT(qubit_list[1],qubit_list[2])]\n",
    "circuit = create_dj_circuit(oracle, qubit_list)"
   ]
  },
  {
   "cell_type": "code",
   "execution_count": 18,
   "id": "c7a54b5e-4fa6-43f1-9090-0cd9405b38ed",
   "metadata": {},
   "outputs": [
    {
     "name": "stdout",
     "output_type": "stream",
     "text": [
      "         N\n",
      "3.0  10000\n"
     ]
    }
   ],
   "source": [
    "run_circuit(circuit, qubit_list, qvm = True)"
   ]
  },
  {
   "cell_type": "code",
   "execution_count": 19,
   "id": "fb858d1e-8316-46c5-ab46-7c366a755e77",
   "metadata": {},
   "outputs": [
    {
     "name": "stdout",
     "output_type": "stream",
     "text": [
      "        N\n",
      "0.0   127\n",
      "1.0  1768\n",
      "2.0   242\n",
      "3.0  7863\n"
     ]
    }
   ],
   "source": [
    "run_circuit(circuit, qubit_list, qvm = False)"
   ]
  }
 ],
 "metadata": {
  "kernelspec": {
   "display_name": "Python 3 (ipykernel)",
   "language": "python",
   "name": "python3"
  },
  "language_info": {
   "codemirror_mode": {
    "name": "ipython",
    "version": 3
   },
   "file_extension": ".py",
   "mimetype": "text/x-python",
   "name": "python",
   "nbconvert_exporter": "python",
   "pygments_lexer": "ipython3",
   "version": "3.7.9"
  }
 },
 "nbformat": 4,
 "nbformat_minor": 5
}
