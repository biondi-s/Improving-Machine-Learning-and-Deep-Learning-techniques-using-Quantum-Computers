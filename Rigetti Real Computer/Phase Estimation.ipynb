{
 "cells": [
  {
   "cell_type": "markdown",
   "id": "1fde49d9-0b6f-42ab-858f-affa27942467",
   "metadata": {},
   "source": [
    "# Phase Estimation - 2 and 3 qubits"
   ]
  },
  {
   "cell_type": "code",
   "execution_count": 1,
   "id": "e2b48726-73ef-4dc1-8109-4832d229ca84",
   "metadata": {},
   "outputs": [],
   "source": [
    "from pyquil.quil import Program\n",
    "from pyquil.gates import *\n",
    "from pyquil import get_qc\n",
    "import numpy as np\n",
    "import pandas as pd\n",
    "import math"
   ]
  },
  {
   "cell_type": "code",
   "execution_count": 2,
   "id": "1430ed8b-5b1a-47be-812e-2e228bdd3533",
   "metadata": {},
   "outputs": [],
   "source": [
    "def qft_dagger(qc, qubit_list):\n",
    "    n = len(qubit_list)-1\n",
    "    for qubit in range(n//2):\n",
    "        qc += SWAP(qubit_list[qubit], qubit_list[n-qubit-1])\n",
    "    for j in range(n):\n",
    "        for m in range(j):\n",
    "            qc += CPHASE(-math.pi/float(2**(j-m)), qubit_list[j], qubit_list[m])\n",
    "        qc += H(qubit_list[j])\n",
    "    return qc"
   ]
  },
  {
   "cell_type": "code",
   "execution_count": 3,
   "id": "dbd6266a-b424-4bfd-ab10-2e411f90b203",
   "metadata": {},
   "outputs": [],
   "source": [
    "def create_pe_circuit(angle, qubit_list):\n",
    "    n_qubit = len(qubit_list)-1\n",
    "    circuit = Program()\n",
    "    circuit += X(qubit_list[-1])\n",
    "    for i in range(n_qubit):\n",
    "        circuit += H(qubit_list[i])\n",
    "    repetitions = 1\n",
    "    for counting_qubit in range(n_qubit):\n",
    "        for i in range(repetitions):\n",
    "            circuit += CPHASE(angle, qubit_list[counting_qubit], qubit_list[-1])\n",
    "        repetitions *= 2\n",
    "    circuit = qft_dagger(circuit, qubit_list)\n",
    "    ro = circuit.declare('ro', 'BIT', n_qubit)\n",
    "    for i in range(n_qubit):\n",
    "        circuit += MEASURE(qubit_list[i], ro[i])\n",
    "    return circuit"
   ]
  },
  {
   "cell_type": "code",
   "execution_count": 14,
   "id": "e5e034e1-3c92-4a0d-9a8b-371dd4cfc6d3",
   "metadata": {},
   "outputs": [],
   "source": [
    "def run_circuit(circuit, qubit_list, qvm):\n",
    "    n = len(qubit_list) - 1\n",
    "    exp_array = np.array([])\n",
    "    for i in range(n):\n",
    "        exp_array = np.append(exp_array,2**i)\n",
    "    shots = 10**4\n",
    "    circuit.wrap_in_numshots_loop(shots)\n",
    "    #qc = get_qc('4q-qvm')  # You can make any 'nq-qvm' this way for any reasonable 'n'\n",
    "    qc = get_qc(\"Aspen-M-1\", as_qvm=qvm, execution_timeout=120)\n",
    "    executable = qc.compile(circuit)\n",
    "    result = qc.run(executable)\n",
    "    bitstrings = result.readout_data.get('ro')[:,:n]\n",
    "    results = bitstrings.dot(exp_array)\n",
    "    unique_elements, counts_elements = np.unique(results, return_counts=True)\n",
    "    print(pd.DataFrame({'teta_estimate':unique_elements/2**n, 'freq%':counts_elements/shots * 100}))"
   ]
  },
  {
   "cell_type": "markdown",
   "id": "44004dd8-03fb-443d-b63f-d8c0fd378666",
   "metadata": {
    "tags": []
   },
   "source": [
    "## 3 Qubits "
   ]
  },
  {
   "cell_type": "markdown",
   "id": "262f587c-31ab-4960-8b1e-32df95471492",
   "metadata": {},
   "source": [
    "Best qubit in term of fidelity on the Aspen-M-1 Rigetti Processor:"
   ]
  },
  {
   "cell_type": "code",
   "execution_count": 5,
   "id": "5ece7663-d899-4a3d-a8c3-87057fb4e9c8",
   "metadata": {},
   "outputs": [],
   "source": [
    "qubit_list = [35,21,36,22] #Aspen-M-1"
   ]
  },
  {
   "cell_type": "code",
   "execution_count": 6,
   "id": "6eef1164-db82-4e1b-b84c-9b09991d49a0",
   "metadata": {},
   "outputs": [],
   "source": [
    "angle = 2*math.pi/3\n",
    "circuit = create_pe_circuit(angle, qubit_list)"
   ]
  },
  {
   "cell_type": "code",
   "execution_count": 7,
   "id": "2461c2d2-b3fe-4f40-a2e1-50c180cd4d71",
   "metadata": {},
   "outputs": [
    {
     "name": "stdout",
     "output_type": "stream",
     "text": [
      "   teta_estimate  freq%\n",
      "0          0.000   1.66\n",
      "1          0.125   3.16\n",
      "2          0.250  17.88\n",
      "3          0.375  68.39\n",
      "4          0.500   4.67\n",
      "5          0.625   1.76\n",
      "6          0.750   1.37\n",
      "7          0.875   1.11\n"
     ]
    }
   ],
   "source": [
    "run_circuit(circuit, qubit_list, qvm = True)"
   ]
  },
  {
   "cell_type": "code",
   "execution_count": 8,
   "id": "61af4022-5f27-41e5-9b2a-ed4c254ffd5e",
   "metadata": {},
   "outputs": [
    {
     "name": "stdout",
     "output_type": "stream",
     "text": [
      "   teta_estimate  freq%\n",
      "0          0.000  11.84\n",
      "1          0.125   8.24\n",
      "2          0.250  10.00\n",
      "3          0.375  11.75\n",
      "4          0.500  12.90\n",
      "5          0.625  11.13\n",
      "6          0.750  12.11\n",
      "7          0.875  22.03\n"
     ]
    }
   ],
   "source": [
    "run_circuit(circuit, qubit_list, qvm = False)"
   ]
  },
  {
   "cell_type": "markdown",
   "id": "f527e249-bddd-4b2c-b223-8c6c0ffc2540",
   "metadata": {
    "tags": []
   },
   "source": [
    "## 5 Qubits "
   ]
  },
  {
   "cell_type": "markdown",
   "id": "be4a51c8-29d8-4002-9647-f48edf9461c5",
   "metadata": {},
   "source": [
    "Best qubit in term of fidelity on the Aspen-M-1 Rigetti Processor:"
   ]
  },
  {
   "cell_type": "code",
   "execution_count": 15,
   "id": "44a38f1d-8b7b-49c8-894b-6cd95e36a22f",
   "metadata": {
    "tags": []
   },
   "outputs": [],
   "source": [
    "qubit_list = [35,21,36,22,34,37] #Aspen-M-1"
   ]
  },
  {
   "cell_type": "code",
   "execution_count": 16,
   "id": "cf92c05f-73eb-473a-8952-62cb80b4924a",
   "metadata": {},
   "outputs": [],
   "source": [
    "angle = 2*math.pi/3\n",
    "circuit = create_pe_circuit(angle, qubit_list)"
   ]
  },
  {
   "cell_type": "code",
   "execution_count": 11,
   "id": "7527538a-2409-4cf8-9ce2-c9e422ab79d2",
   "metadata": {},
   "outputs": [
    {
     "name": "stdout",
     "output_type": "stream",
     "text": [
      "    teta_estimate  freq%\n",
      "0         0.00000   0.11\n",
      "1         0.03125   0.15\n",
      "2         0.06250   0.13\n",
      "3         0.09375   0.11\n",
      "4         0.12500   0.18\n",
      "5         0.15625   0.29\n",
      "6         0.18750   0.47\n",
      "7         0.21875   0.54\n",
      "8         0.25000   0.87\n",
      "9         0.28125   2.73\n",
      "10        0.31250  17.08\n",
      "11        0.34375  68.47\n",
      "12        0.37500   4.57\n",
      "13        0.40625   1.43\n",
      "14        0.43750   0.65\n",
      "15        0.46875   0.45\n",
      "16        0.50000   0.19\n",
      "17        0.53125   0.14\n",
      "18        0.56250   0.17\n",
      "19        0.59375   0.17\n",
      "20        0.62500   0.15\n",
      "21        0.65625   0.13\n",
      "22        0.68750   0.05\n",
      "23        0.71875   0.09\n",
      "24        0.75000   0.14\n",
      "25        0.78125   0.05\n",
      "26        0.81250   0.09\n",
      "27        0.84375   0.07\n",
      "28        0.87500   0.08\n",
      "29        0.90625   0.05\n",
      "30        0.93750   0.07\n",
      "31        0.96875   0.13\n"
     ]
    }
   ],
   "source": [
    "run_circuit(circuit, qubit_list, qvm = True)"
   ]
  },
  {
   "cell_type": "code",
   "execution_count": 12,
   "id": "ae94937c-6cd5-4053-a9b5-3a2b47accfa6",
   "metadata": {},
   "outputs": [
    {
     "name": "stdout",
     "output_type": "stream",
     "text": [
      "    teta_estimate  freq%\n",
      "0         0.00000   2.12\n",
      "1         0.03125   2.06\n",
      "2         0.06250   2.69\n",
      "3         0.09375   2.40\n",
      "4         0.12500   2.20\n",
      "5         0.15625   2.13\n",
      "6         0.18750   2.61\n",
      "7         0.21875   2.93\n",
      "8         0.25000   2.03\n",
      "9         0.28125   2.29\n",
      "10        0.31250   3.42\n",
      "11        0.34375   3.04\n",
      "12        0.37500   2.23\n",
      "13        0.40625   3.02\n",
      "14        0.43750   3.34\n",
      "15        0.46875   3.75\n",
      "16        0.50000   2.40\n",
      "17        0.53125   2.83\n",
      "18        0.56250   2.74\n",
      "19        0.59375   2.75\n",
      "20        0.62500   3.28\n",
      "21        0.65625   3.58\n",
      "22        0.68750   3.75\n",
      "23        0.71875   4.44\n",
      "24        0.75000   2.72\n",
      "25        0.78125   2.75\n",
      "26        0.81250   4.46\n",
      "27        0.84375   4.19\n",
      "28        0.87500   3.09\n",
      "29        0.90625   4.02\n",
      "30        0.93750   5.26\n",
      "31        0.96875   5.48\n"
     ]
    }
   ],
   "source": [
    "run_circuit(circuit, qubit_list, qvm = False)"
   ]
  }
 ],
 "metadata": {
  "kernelspec": {
   "display_name": "Python 3 (ipykernel)",
   "language": "python",
   "name": "python3"
  },
  "language_info": {
   "codemirror_mode": {
    "name": "ipython",
    "version": 3
   },
   "file_extension": ".py",
   "mimetype": "text/x-python",
   "name": "python",
   "nbconvert_exporter": "python",
   "pygments_lexer": "ipython3",
   "version": "3.7.9"
  }
 },
 "nbformat": 4,
 "nbformat_minor": 5
}
