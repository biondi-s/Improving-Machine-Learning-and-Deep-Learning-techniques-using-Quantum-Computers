{
 "cells": [
  {
   "cell_type": "code",
   "execution_count": 1,
   "id": "869def53-e501-4a25-b719-d59c4fa7aa3e",
   "metadata": {},
   "outputs": [],
   "source": [
    "from pyquil.quil import Program\n",
    "from pyquil.gates import *\n",
    "from pyquil import get_qc\n",
    "import numpy as np\n",
    "from sklearn.model_selection import train_test_split\n",
    "from sklearn.metrics import confusion_matrix, classification_report\n",
    "import time"
   ]
  },
  {
   "cell_type": "markdown",
   "id": "c5566acc-e9da-429e-a845-2ffb00b109b1",
   "metadata": {},
   "source": [
    "# QNN 2 Parametrs Evaluation"
   ]
  },
  {
   "cell_type": "markdown",
   "id": "7e4ca1bd-b23c-4389-a6d4-ff21005fdfd5",
   "metadata": {},
   "source": [
    "## Data Preprocessing"
   ]
  },
  {
   "cell_type": "markdown",
   "id": "7ff051bf-15bc-4018-9943-f500c57ed534",
   "metadata": {},
   "source": [
    "### Import Data"
   ]
  },
  {
   "cell_type": "code",
   "execution_count": 2,
   "id": "2782beed-c7d7-490f-a486-1d33048f99db",
   "metadata": {},
   "outputs": [
    {
     "name": "stdout",
     "output_type": "stream",
     "text": [
      "First sample: [0.4  0.75 0.2  0.05]\n",
      "Label = 0\n"
     ]
    }
   ],
   "source": [
    "iris_dataset = np.loadtxt(\"iris.txt\")\n",
    "X, Y = iris_dataset[:, 0: 4], iris_dataset[:, -1]\n",
    "Y[Y < 0] = 0\n",
    "print(f\"First sample: {X[0]}\")\n",
    "print(f\"Label = {int(Y[0])}\")"
   ]
  },
  {
   "cell_type": "markdown",
   "id": "71884496-be84-40e0-87c2-b93853108918",
   "metadata": {},
   "source": [
    "### Normalize Data"
   ]
  },
  {
   "cell_type": "code",
   "execution_count": 3,
   "id": "884cdbc4-b340-4b45-a9cd-e60d8cff79a4",
   "metadata": {},
   "outputs": [
    {
     "name": "stdout",
     "output_type": "stream",
     "text": [
      "First sample normalized: [1.43674319 2.69389348 0.71837159 0.1795929 ]\n"
     ]
    }
   ],
   "source": [
    "X_norm = 1. * np.pi * np.array([x / np.linalg.norm(x) for x in X])\n",
    "print(\"First sample normalized:\", X_norm[0])"
   ]
  },
  {
   "cell_type": "markdown",
   "id": "159abc28-abbd-40ec-abcb-b412d4e0fd69",
   "metadata": {},
   "source": [
    "### Create Sample Data"
   ]
  },
  {
   "cell_type": "code",
   "execution_count": 4,
   "id": "50717051-6222-4cfc-a1bb-b3ecccb60da0",
   "metadata": {},
   "outputs": [],
   "source": [
    "def create_sample(X, Y, sample_size):\n",
    "    if sample_size == 1:\n",
    "        return X,Y\n",
    "    X_sample,_,Y_sample,_ = train_test_split(X, Y, train_size=sample_size, stratify = Y)\n",
    "    return X_sample,Y_sample"
   ]
  },
  {
   "cell_type": "markdown",
   "id": "4fe47ff5-a6b7-4ddb-a892-e0a977f41817",
   "metadata": {},
   "source": [
    "## Quantum Neural Network "
   ]
  },
  {
   "cell_type": "code",
   "execution_count": 5,
   "id": "92ec8e73-3b1b-43b0-a30d-21f98222b558",
   "metadata": {},
   "outputs": [],
   "source": [
    "weights_path = 'best_weights_2p.npy'"
   ]
  },
  {
   "cell_type": "markdown",
   "id": "2449f403-3200-4388-abeb-b45c48c309b5",
   "metadata": {},
   "source": [
    "### Reproduce Circuit"
   ]
  },
  {
   "cell_type": "code",
   "execution_count": 6,
   "id": "c133aa57-8525-43ab-95ed-7770ee4a1de6",
   "metadata": {},
   "outputs": [],
   "source": [
    "def feature_map(circuit, qubit_list, x):\n",
    "    n_qubit = len(qubit_list)\n",
    "    for i in range(n_qubit):\n",
    "        circuit += H(qubit_list[i])\n",
    "    for i in range(n_qubit):\n",
    "        circuit += RZ(x[i], qubit_list[i])\n",
    "    return circuit\n",
    "\n",
    "def variational(circuit, qubit_list, weights):\n",
    "    n_qubit = len(qubit_list)\n",
    "    for i in range(2):\n",
    "        circuit += RY(weights[0], qubit_list[2*i])\n",
    "        circuit += RY(weights[1], qubit_list[2*i+1])\n",
    "    for i in range(n_qubit - 1):\n",
    "        circuit += CNOT(qubit_list[i], qubit_list[i + 1])\n",
    "    for i in range(2):\n",
    "        circuit += RY(weights[0], qubit_list[2*i])\n",
    "        circuit += RY(weights[1], qubit_list[2*i+1])\n",
    "    return circuit"
   ]
  },
  {
   "cell_type": "code",
   "execution_count": 7,
   "id": "7bbbf044-a590-48dc-9c24-0da0eced8a4d",
   "metadata": {},
   "outputs": [],
   "source": [
    "def create_qnn_circuit(qubit_list, x, weights):\n",
    "    n_qubit = len(qubit_list)\n",
    "    assert n_qubit == len(x)\n",
    "    #TODO assert on weights\n",
    "    circuit = Program()\n",
    "    for i in range(2):\n",
    "        circuit = feature_map(circuit, qubit_list, x)\n",
    "        circuit = variational(circuit, qubit_list, weights[0])\n",
    "    ro = circuit.declare('ro', 'BIT', 1)\n",
    "    circuit += MEASURE(qubit_list[0], ro[0])\n",
    "    return circuit"
   ]
  },
  {
   "cell_type": "code",
   "execution_count": 8,
   "id": "2521399b-79bb-4a99-8a47-35c9653947b3",
   "metadata": {},
   "outputs": [],
   "source": [
    "def print_circuit():\n",
    "    weights = np.load(weights_path)\n",
    "    qubit_list = [0,1,2,3]\n",
    "    circuit = create_qnn_circuit(qubit_list, np.array([0,1,2,3]), weights)\n",
    "    print(circuit)"
   ]
  },
  {
   "cell_type": "markdown",
   "id": "e819297f-a79c-41c3-9c55-ffd5c494f821",
   "metadata": {},
   "source": [
    "### Single x Evaluation"
   ]
  },
  {
   "cell_type": "code",
   "execution_count": 9,
   "id": "58926566-4f3a-469b-b80a-bc39e0593e16",
   "metadata": {},
   "outputs": [],
   "source": [
    "def run_circuit(circuit, qubit_list, qvm):\n",
    "    n = len(qubit_list)\n",
    "    shots = 10**3\n",
    "    circuit.wrap_in_numshots_loop(shots)\n",
    "    #qc = get_qc('3q-qvm')  # You can make any 'nq-qvm' this way for any reasonable 'n'\n",
    "    qc = get_qc(\"Aspen-M-1\", as_qvm=qvm, execution_timeout=60)\n",
    "    executable = qc.compile(circuit)\n",
    "    result = qc.run(executable)\n",
    "    bitstrings = result.readout_data.get('ro')[:,:1]\n",
    "    return (len(bitstrings[bitstrings==0]) - len(bitstrings[bitstrings==1]))/len(bitstrings)"
   ]
  },
  {
   "cell_type": "code",
   "execution_count": 10,
   "id": "896470bc-076a-43d7-b5ad-3ed5777c1c1b",
   "metadata": {},
   "outputs": [],
   "source": [
    "def eval_qnn(x, weights, qubit_list, qvm):\n",
    "    circuit = create_qnn_circuit(qubit_list, x, weights)\n",
    "    return run_circuit(circuit, qubit_list, qvm = True)"
   ]
  },
  {
   "cell_type": "markdown",
   "id": "1c386246-8863-4b08-b932-0035bc927c62",
   "metadata": {},
   "source": [
    "### Run Predictions"
   ]
  },
  {
   "cell_type": "code",
   "execution_count": 11,
   "id": "2406c1f6-bb50-4edc-a822-17ea5b18e9c7",
   "metadata": {},
   "outputs": [],
   "source": [
    "def prediction(X, weights, qubit_list, qvm=True):\n",
    "    start = time.time()\n",
    "    results = np.array([])\n",
    "    i=0\n",
    "    for x in X:\n",
    "        i += 1\n",
    "        if i % 10 == 0:\n",
    "            print(str(i) + \" elements evaluated\")\n",
    "        result = eval_qnn(x, weights, qubit_list, qvm=True)\n",
    "        result = (result + 1)/2\n",
    "        results = np.append(results, result)\n",
    "    print(\"Time of execution :\", time.time()-start)\n",
    "    return np.where(results > 0.5, 1, 0)"
   ]
  },
  {
   "cell_type": "markdown",
   "id": "57dc94c5-dd3e-4b0d-9b54-7c3c7b0ab331",
   "metadata": {},
   "source": [
    "### Predictions Metrics"
   ]
  },
  {
   "cell_type": "code",
   "execution_count": 12,
   "id": "6eded6c2-eee6-4c4b-83b9-14030f0277a8",
   "metadata": {},
   "outputs": [],
   "source": [
    "def metrics_results(predictions, Y_true):\n",
    "    print(confusion_matrix(Y_true, predictions))\n",
    "    print(classification_report(Y_true, predictions))"
   ]
  },
  {
   "cell_type": "markdown",
   "id": "1f1e4b2b-6664-4172-8b4b-bb8ee4c682b6",
   "metadata": {},
   "source": [
    "## Predictions"
   ]
  },
  {
   "cell_type": "markdown",
   "id": "edf59bcb-186d-44e6-ade3-bd9f6b6b44af",
   "metadata": {},
   "source": [
    "### Quantum Setting"
   ]
  },
  {
   "cell_type": "code",
   "execution_count": 13,
   "id": "a8f9e9a3-07fa-4ad8-ad41-37cbccd82dc2",
   "metadata": {},
   "outputs": [],
   "source": [
    "weights = np.load(weights_path, allow_pickle=True)"
   ]
  },
  {
   "cell_type": "code",
   "execution_count": 14,
   "id": "43b1a589-f699-4265-a462-7da34d413517",
   "metadata": {},
   "outputs": [],
   "source": [
    "qubit_list = [35,21,36,22] #Aspen-M-1"
   ]
  },
  {
   "cell_type": "markdown",
   "id": "9e32974f-c668-461f-947d-892622605060",
   "metadata": {},
   "source": [
    "### Set to Evaluate"
   ]
  },
  {
   "cell_type": "code",
   "execution_count": 15,
   "id": "35954473-a897-4956-a1bc-1060b5a188c1",
   "metadata": {},
   "outputs": [],
   "source": [
    "X_sample,Y_sample = create_sample(X_norm,Y,sample_size = 1)"
   ]
  },
  {
   "cell_type": "markdown",
   "id": "12561812-1762-4ffc-a388-e2cbe4ad4fc7",
   "metadata": {},
   "source": [
    "### Evaluation and Metrics on Simulator"
   ]
  },
  {
   "cell_type": "code",
   "execution_count": 16,
   "id": "cb78b5df-b262-4c9c-a277-7150096eff83",
   "metadata": {},
   "outputs": [
    {
     "name": "stdout",
     "output_type": "stream",
     "text": [
      "10 elements evaluated\n",
      "20 elements evaluated\n",
      "30 elements evaluated\n",
      "40 elements evaluated\n",
      "50 elements evaluated\n",
      "60 elements evaluated\n",
      "70 elements evaluated\n",
      "80 elements evaluated\n",
      "90 elements evaluated\n",
      "100 elements evaluated\n",
      "Time of execution : 392.6113028526306\n"
     ]
    }
   ],
   "source": [
    "results = prediction(X_sample, weights, qubit_list, qvm=True)"
   ]
  },
  {
   "cell_type": "code",
   "execution_count": 17,
   "id": "66c1758c-d886-4a2b-9519-9a73259fedf2",
   "metadata": {},
   "outputs": [
    {
     "name": "stdout",
     "output_type": "stream",
     "text": [
      "[[50  0]\n",
      " [ 0 50]]\n",
      "              precision    recall  f1-score   support\n",
      "\n",
      "         0.0       1.00      1.00      1.00        50\n",
      "         1.0       1.00      1.00      1.00        50\n",
      "\n",
      "    accuracy                           1.00       100\n",
      "   macro avg       1.00      1.00      1.00       100\n",
      "weighted avg       1.00      1.00      1.00       100\n",
      "\n"
     ]
    }
   ],
   "source": [
    "metrics_results(results, Y_sample)"
   ]
  },
  {
   "cell_type": "markdown",
   "id": "61319347-61e9-4432-b591-61dcfc3cc692",
   "metadata": {},
   "source": [
    "### Evaluation and Metrics on Real QC"
   ]
  },
  {
   "cell_type": "code",
   "execution_count": 18,
   "id": "f084d03e-c541-48c3-b429-119a2f20daac",
   "metadata": {},
   "outputs": [
    {
     "name": "stdout",
     "output_type": "stream",
     "text": [
      "10 elements evaluated\n",
      "20 elements evaluated\n",
      "30 elements evaluated\n",
      "40 elements evaluated\n",
      "50 elements evaluated\n",
      "60 elements evaluated\n",
      "70 elements evaluated\n",
      "80 elements evaluated\n",
      "90 elements evaluated\n",
      "100 elements evaluated\n",
      "Time of execution : 390.843966960907\n"
     ]
    }
   ],
   "source": [
    "results = prediction(X_sample, weights, qubit_list, qvm=False)"
   ]
  },
  {
   "cell_type": "code",
   "execution_count": 19,
   "id": "994825a7-c3b4-428c-becd-705cbd6a5aa6",
   "metadata": {},
   "outputs": [
    {
     "name": "stdout",
     "output_type": "stream",
     "text": [
      "[[50  0]\n",
      " [ 0 50]]\n",
      "              precision    recall  f1-score   support\n",
      "\n",
      "         0.0       1.00      1.00      1.00        50\n",
      "         1.0       1.00      1.00      1.00        50\n",
      "\n",
      "    accuracy                           1.00       100\n",
      "   macro avg       1.00      1.00      1.00       100\n",
      "weighted avg       1.00      1.00      1.00       100\n",
      "\n"
     ]
    }
   ],
   "source": [
    "metrics_results(results, Y_sample)"
   ]
  },
  {
   "cell_type": "markdown",
   "id": "2cdebb87-faf6-4879-b24a-f71fedacf68e",
   "metadata": {},
   "source": [
    "## Print Circuit"
   ]
  },
  {
   "cell_type": "code",
   "execution_count": 20,
   "id": "209d5c88-cc8b-4ddf-9ffc-78f9f640f073",
   "metadata": {},
   "outputs": [
    {
     "name": "stdout",
     "output_type": "stream",
     "text": [
      "H 0\n",
      "H 1\n",
      "H 2\n",
      "H 3\n",
      "RZ(0) 0\n",
      "RZ(1) 1\n",
      "RZ(2) 2\n",
      "RZ(3) 3\n",
      "RY(4.846101252746413) 0\n",
      "RY(4.709903075877427) 1\n",
      "RY(4.846101252746413) 2\n",
      "RY(4.709903075877427) 3\n",
      "CNOT 0 1\n",
      "CNOT 1 2\n",
      "CNOT 2 3\n",
      "RY(4.846101252746413) 0\n",
      "RY(4.709903075877427) 1\n",
      "RY(4.846101252746413) 2\n",
      "RY(4.709903075877427) 3\n",
      "H 0\n",
      "H 1\n",
      "H 2\n",
      "H 3\n",
      "RZ(0) 0\n",
      "RZ(1) 1\n",
      "RZ(2) 2\n",
      "RZ(3) 3\n",
      "RY(4.846101252746413) 0\n",
      "RY(4.709903075877427) 1\n",
      "RY(4.846101252746413) 2\n",
      "RY(4.709903075877427) 3\n",
      "CNOT 0 1\n",
      "CNOT 1 2\n",
      "CNOT 2 3\n",
      "RY(4.846101252746413) 0\n",
      "RY(4.709903075877427) 1\n",
      "RY(4.846101252746413) 2\n",
      "RY(4.709903075877427) 3\n",
      "DECLARE ro BIT[1]\n",
      "MEASURE 0 ro[0]\n",
      "\n"
     ]
    }
   ],
   "source": [
    "print_circuit()"
   ]
  },
  {
   "cell_type": "code",
   "execution_count": null,
   "id": "c5cd5210-d1de-43ce-8991-32a1ca6a52f5",
   "metadata": {},
   "outputs": [],
   "source": []
  }
 ],
 "metadata": {
  "kernelspec": {
   "display_name": "Python 3 (ipykernel)",
   "language": "python",
   "name": "python3"
  },
  "language_info": {
   "codemirror_mode": {
    "name": "ipython",
    "version": 3
   },
   "file_extension": ".py",
   "mimetype": "text/x-python",
   "name": "python",
   "nbconvert_exporter": "python",
   "pygments_lexer": "ipython3",
   "version": "3.9.7"
  }
 },
 "nbformat": 4,
 "nbformat_minor": 5
}
