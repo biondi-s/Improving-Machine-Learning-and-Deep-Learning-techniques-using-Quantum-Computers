{
 "cells": [
  {
   "cell_type": "code",
   "execution_count": 1,
   "id": "2f09c4a3",
   "metadata": {},
   "outputs": [
    {
     "name": "stderr",
     "output_type": "stream",
     "text": [
      "WARNING:root:Limited tf.compat.v2.summary API due to missing TensorBoard installation.\n",
      "WARNING:root:Limited tf.compat.v2.summary API due to missing TensorBoard installation.\n",
      "WARNING:root:Limited tf.compat.v2.summary API due to missing TensorBoard installation.\n",
      "WARNING:root:Limited tf.summary API due to missing TensorBoard installation.\n"
     ]
    }
   ],
   "source": [
    "import numpy as np\n",
    "import tensorflow as tf\n",
    "from sklearn.model_selection import train_test_split\n",
    "from sklearn.preprocessing import StandardScaler, LabelEncoder\n",
    "from tensorflow.keras.models import Sequential, load_model\n",
    "from tensorflow.keras.layers import Dense\n",
    "from tensorflow.keras.utils import to_categorical\n",
    "from tensorflow.keras import optimizers\n",
    "from tensorflow.keras.callbacks import ModelCheckpoint, EarlyStopping\n",
    "from sklearn.metrics import confusion_matrix, classification_report\n",
    "import matplotlib.pyplot as plt\n",
    "import warnings\n",
    "warnings.filterwarnings('ignore')"
   ]
  },
  {
   "cell_type": "code",
   "execution_count": 2,
   "id": "77dfd3bd",
   "metadata": {},
   "outputs": [],
   "source": [
    "def plot(network_history):\n",
    "    plt.figure()\n",
    "    plt.plot(network_history.history['accuracy'])\n",
    "    plt.plot(network_history.history['val_accuracy'])\n",
    "    plt.title('Model Accuracy')\n",
    "    plt.ylabel('Accuracy')\n",
    "    plt.xlabel('Epoch')\n",
    "    plt.legend(['Train','Validation'], loc='upper right')\n",
    "    \n",
    "    plt.figure()\n",
    "    plt.plot(network_history.history['loss'])\n",
    "    plt.plot(network_history.history['val_loss'])\n",
    "    plt.title('Model Loss')\n",
    "    plt.ylabel('Loss')\n",
    "    plt.xlabel('Epoch')\n",
    "    plt.legend(['Train','Validation'], loc='lower left')\n",
    "    plt.show()\n",
    "\n",
    "\n",
    "def metrics_best(path, X_val, Y_true):\n",
    "    best_model = load_model(path)\n",
    "    Y_pred = best_model.predict(X_val)\n",
    "    print(confusion_matrix(Y_true, np.argmax(Y_pred, axis=1)))\n",
    "    print(classification_report(Y_true, np.argmax(Y_pred, axis=1)))"
   ]
  },
  {
   "cell_type": "code",
   "execution_count": 3,
   "id": "50b2c79d",
   "metadata": {},
   "outputs": [
    {
     "name": "stdout",
     "output_type": "stream",
     "text": [
      "(100, 4) (100,)\n"
     ]
    }
   ],
   "source": [
    "iris_dataset = np.loadtxt(\"iris.txt\")\n",
    "X, Y = iris_dataset[:, 0: 4], iris_dataset[:, -1]\n",
    "print(X.shape, Y.shape)"
   ]
  },
  {
   "cell_type": "code",
   "execution_count": 4,
   "id": "b5b6c8b1",
   "metadata": {},
   "outputs": [],
   "source": [
    "X_train, X_val, Y_train, Y_val = train_test_split(X, Y, train_size=0.74, random_state=42, stratify=Y)"
   ]
  },
  {
   "cell_type": "code",
   "execution_count": 5,
   "id": "9120b414",
   "metadata": {},
   "outputs": [
    {
     "name": "stdout",
     "output_type": "stream",
     "text": [
      "(74, 4) (26, 4) (74,) (26,)\n"
     ]
    }
   ],
   "source": [
    "print(X_train.shape, X_val.shape, Y_train.shape, Y_val.shape)"
   ]
  },
  {
   "cell_type": "code",
   "execution_count": 6,
   "id": "9f654641",
   "metadata": {},
   "outputs": [],
   "source": [
    "scaler = StandardScaler()\n",
    "scaler.fit(X_train)\n",
    "X_train = scaler.fit_transform(X_train)\n",
    "X_val = scaler.transform(X_val)"
   ]
  },
  {
   "cell_type": "code",
   "execution_count": 7,
   "id": "1239e93e",
   "metadata": {},
   "outputs": [],
   "source": [
    "encoder = LabelEncoder()\n",
    "Y_train = encoder.fit_transform(Y_train).astype(np.int32)\n",
    "Y_train = to_categorical(Y_train)\n",
    "Y_val_no_encoded = Y_val.copy()\n",
    "Y_val = encoder.transform(Y_val).astype(np.int32)\n",
    "Y_val = to_categorical(Y_val)\n"
   ]
  },
  {
   "cell_type": "code",
   "execution_count": 8,
   "id": "b72e4bbb",
   "metadata": {},
   "outputs": [
    {
     "name": "stdout",
     "output_type": "stream",
     "text": [
      "(74, 4) (26, 4) (74, 2) (26, 2)\n"
     ]
    }
   ],
   "source": [
    "print(X_train.shape, X_val.shape, Y_train.shape, Y_val.shape)"
   ]
  },
  {
   "cell_type": "code",
   "execution_count": 9,
   "id": "0398cb53",
   "metadata": {},
   "outputs": [],
   "source": [
    "input_dim = X_train.shape[1]\n",
    "nb_classes = Y_train.shape[1]"
   ]
  },
  {
   "cell_type": "code",
   "execution_count": 10,
   "id": "289055d7",
   "metadata": {},
   "outputs": [
    {
     "data": {
      "text/plain": [
       "(4, 2)"
      ]
     },
     "execution_count": 10,
     "metadata": {},
     "output_type": "execute_result"
    }
   ],
   "source": [
    "input_dim, nb_classes"
   ]
  },
  {
   "cell_type": "code",
   "execution_count": 11,
   "id": "ea4e5ff0",
   "metadata": {},
   "outputs": [],
   "source": [
    "def my_loss_fn(y_true, y_pred):\n",
    "    squared_difference = tf.square(y_true - y_pred)\n",
    "    return tf.reduce_mean(squared_difference, axis=-1)  # Note the `axis=-1"
   ]
  },
  {
   "cell_type": "code",
   "execution_count": 12,
   "id": "6c9ebefe",
   "metadata": {},
   "outputs": [],
   "source": [
    "model = Sequential()\n",
    "model.add(Dense(2, input_shape=(input_dim,), activation = \"relu\",use_bias=True))\n",
    "model.add(Dense(nb_classes, activation = \"sigmoid\",use_bias=True))"
   ]
  },
  {
   "cell_type": "code",
   "execution_count": 13,
   "id": "d2064b20",
   "metadata": {},
   "outputs": [
    {
     "name": "stdout",
     "output_type": "stream",
     "text": [
      "Model: \"sequential\"\n",
      "_________________________________________________________________\n",
      "Layer (type)                 Output Shape              Param #   \n",
      "=================================================================\n",
      "dense (Dense)                (None, 2)                 10        \n",
      "_________________________________________________________________\n",
      "dense_1 (Dense)              (None, 2)                 6         \n",
      "=================================================================\n",
      "Total params: 16\n",
      "Trainable params: 16\n",
      "Non-trainable params: 0\n",
      "_________________________________________________________________\n"
     ]
    }
   ],
   "source": [
    "model.summary()"
   ]
  },
  {
   "cell_type": "code",
   "execution_count": 14,
   "id": "d8949851",
   "metadata": {},
   "outputs": [],
   "source": [
    "sgd = optimizers.SGD(learning_rate=0.01, momentum=0, nesterov=False)"
   ]
  },
  {
   "cell_type": "code",
   "execution_count": 15,
   "id": "a094fe0f",
   "metadata": {},
   "outputs": [],
   "source": [
    "model.compile(optimizer=sgd, loss='categorical_crossentropy',metrics=['accuracy'])"
   ]
  },
  {
   "cell_type": "code",
   "execution_count": 16,
   "id": "18cdcc8a",
   "metadata": {},
   "outputs": [],
   "source": [
    "filepath=\"Models\\\\weights.best.16p.hdf5\"\n",
    "checkpoint = ModelCheckpoint(filepath, monitor='val_accuracy', verbose=1, save_best_only=True, mode='max')\n",
    "early_stopping = EarlyStopping(monitor='val_loss', min_delta=0.01, patience=10, verbose=0, mode='min')\n",
    "callbacks_list = [checkpoint, early_stopping]"
   ]
  },
  {
   "cell_type": "code",
   "execution_count": 17,
   "id": "d392a9f3",
   "metadata": {},
   "outputs": [
    {
     "name": "stdout",
     "output_type": "stream",
     "text": [
      "Epoch 1/35\n",
      "WARNING:tensorflow:AutoGraph could not transform <function Model.make_train_function.<locals>.train_function at 0x000002147F5B09D8> and will run it as-is.\n",
      "Please report this to the TensorFlow team. When filing the bug, set the verbosity to 10 (on Linux, `export AUTOGRAPH_VERBOSITY=10`) and attach the full output.\n",
      "Cause: unsupported operand type(s) for -: 'NoneType' and 'int'\n",
      "To silence this warning, decorate the function with @tf.autograph.experimental.do_not_convert\n"
     ]
    },
    {
     "name": "stderr",
     "output_type": "stream",
     "text": [
      "WARNING:tensorflow:AutoGraph could not transform <function Model.make_train_function.<locals>.train_function at 0x000002147F5B09D8> and will run it as-is.\n",
      "Please report this to the TensorFlow team. When filing the bug, set the verbosity to 10 (on Linux, `export AUTOGRAPH_VERBOSITY=10`) and attach the full output.\n",
      "Cause: unsupported operand type(s) for -: 'NoneType' and 'int'\n",
      "To silence this warning, decorate the function with @tf.autograph.experimental.do_not_convert\n"
     ]
    },
    {
     "name": "stdout",
     "output_type": "stream",
     "text": [
      "WARNING: AutoGraph could not transform <function Model.make_train_function.<locals>.train_function at 0x000002147F5B09D8> and will run it as-is.\n",
      "Please report this to the TensorFlow team. When filing the bug, set the verbosity to 10 (on Linux, `export AUTOGRAPH_VERBOSITY=10`) and attach the full output.\n",
      "Cause: unsupported operand type(s) for -: 'NoneType' and 'int'\n",
      "To silence this warning, decorate the function with @tf.autograph.experimental.do_not_convert\n",
      "1/3 [=========>....................] - ETA: 0s - loss: 0.6205 - accuracy: 0.7692WARNING:tensorflow:AutoGraph could not transform <function Model.make_test_function.<locals>.test_function at 0x000002147F9DC8B8> and will run it as-is.\n",
      "Please report this to the TensorFlow team. When filing the bug, set the verbosity to 10 (on Linux, `export AUTOGRAPH_VERBOSITY=10`) and attach the full output.\n",
      "Cause: unsupported operand type(s) for -: 'NoneType' and 'int'\n",
      "To silence this warning, decorate the function with @tf.autograph.experimental.do_not_convert\n"
     ]
    },
    {
     "name": "stderr",
     "output_type": "stream",
     "text": [
      "WARNING:tensorflow:AutoGraph could not transform <function Model.make_test_function.<locals>.test_function at 0x000002147F9DC8B8> and will run it as-is.\n",
      "Please report this to the TensorFlow team. When filing the bug, set the verbosity to 10 (on Linux, `export AUTOGRAPH_VERBOSITY=10`) and attach the full output.\n",
      "Cause: unsupported operand type(s) for -: 'NoneType' and 'int'\n",
      "To silence this warning, decorate the function with @tf.autograph.experimental.do_not_convert\n"
     ]
    },
    {
     "name": "stdout",
     "output_type": "stream",
     "text": [
      "WARNING: AutoGraph could not transform <function Model.make_test_function.<locals>.test_function at 0x000002147F9DC8B8> and will run it as-is.\n",
      "Please report this to the TensorFlow team. When filing the bug, set the verbosity to 10 (on Linux, `export AUTOGRAPH_VERBOSITY=10`) and attach the full output.\n",
      "Cause: unsupported operand type(s) for -: 'NoneType' and 'int'\n",
      "To silence this warning, decorate the function with @tf.autograph.experimental.do_not_convert\n",
      "3/3 [==============================] - 1s 152ms/step - loss: 0.6332 - accuracy: 0.7582 - val_loss: 0.6244 - val_accuracy: 0.9615\n",
      "\n",
      "Epoch 00001: val_accuracy improved from -inf to 0.96154, saving model to Models\\weights.best.16p.hdf5\n",
      "Epoch 2/35\n",
      "3/3 [==============================] - 0s 16ms/step - loss: 0.6390 - accuracy: 0.8902 - val_loss: 0.6193 - val_accuracy: 0.9615\n",
      "\n",
      "Epoch 00002: val_accuracy did not improve from 0.96154\n",
      "Epoch 3/35\n",
      "3/3 [==============================] - 0s 16ms/step - loss: 0.6283 - accuracy: 0.8998 - val_loss: 0.6142 - val_accuracy: 1.0000\n",
      "\n",
      "Epoch 00003: val_accuracy improved from 0.96154 to 1.00000, saving model to Models\\weights.best.16p.hdf5\n",
      "Epoch 4/35\n",
      "3/3 [==============================] - 0s 19ms/step - loss: 0.6237 - accuracy: 0.9278 - val_loss: 0.6090 - val_accuracy: 1.0000\n",
      "\n",
      "Epoch 00004: val_accuracy did not improve from 1.00000\n",
      "Epoch 5/35\n",
      "3/3 [==============================] - 0s 19ms/step - loss: 0.6205 - accuracy: 0.9518 - val_loss: 0.6039 - val_accuracy: 1.0000\n",
      "\n",
      "Epoch 00005: val_accuracy did not improve from 1.00000\n",
      "Epoch 6/35\n",
      "3/3 [==============================] - 0s 19ms/step - loss: 0.6252 - accuracy: 0.9133 - val_loss: 0.5988 - val_accuracy: 1.0000\n",
      "\n",
      "Epoch 00006: val_accuracy did not improve from 1.00000\n",
      "Epoch 7/35\n",
      "3/3 [==============================] - 0s 19ms/step - loss: 0.6147 - accuracy: 0.9374 - val_loss: 0.5937 - val_accuracy: 1.0000\n",
      "\n",
      "Epoch 00007: val_accuracy did not improve from 1.00000\n",
      "Epoch 8/35\n",
      "3/3 [==============================] - 0s 18ms/step - loss: 0.6144 - accuracy: 0.9374 - val_loss: 0.5887 - val_accuracy: 1.0000\n",
      "\n",
      "Epoch 00008: val_accuracy did not improve from 1.00000\n",
      "Epoch 9/35\n",
      "3/3 [==============================] - 0s 16ms/step - loss: 0.6126 - accuracy: 0.9229 - val_loss: 0.5838 - val_accuracy: 1.0000\n",
      "\n",
      "Epoch 00009: val_accuracy did not improve from 1.00000\n",
      "Epoch 10/35\n",
      "3/3 [==============================] - 0s 19ms/step - loss: 0.5961 - accuracy: 0.9133 - val_loss: 0.5788 - val_accuracy: 1.0000\n",
      "\n",
      "Epoch 00010: val_accuracy did not improve from 1.00000\n",
      "Epoch 11/35\n",
      "3/3 [==============================] - 0s 19ms/step - loss: 0.5984 - accuracy: 0.9422 - val_loss: 0.5738 - val_accuracy: 1.0000\n",
      "\n",
      "Epoch 00011: val_accuracy did not improve from 1.00000\n",
      "Epoch 12/35\n",
      "3/3 [==============================] - 0s 20ms/step - loss: 0.5999 - accuracy: 0.9566 - val_loss: 0.5687 - val_accuracy: 1.0000\n",
      "\n",
      "Epoch 00012: val_accuracy did not improve from 1.00000\n",
      "Epoch 13/35\n",
      "3/3 [==============================] - 0s 19ms/step - loss: 0.5876 - accuracy: 0.9374 - val_loss: 0.5637 - val_accuracy: 1.0000\n",
      "\n",
      "Epoch 00013: val_accuracy did not improve from 1.00000\n",
      "Epoch 14/35\n",
      "3/3 [==============================] - ETA: 0s - loss: 0.5820 - accuracy: 0.96 - 0s 16ms/step - loss: 0.5828 - accuracy: 0.9374 - val_loss: 0.5586 - val_accuracy: 1.0000\n",
      "\n",
      "Epoch 00014: val_accuracy did not improve from 1.00000\n",
      "Epoch 15/35\n",
      "3/3 [==============================] - 0s 19ms/step - loss: 0.5753 - accuracy: 0.9441 - val_loss: 0.5537 - val_accuracy: 1.0000\n",
      "\n",
      "Epoch 00015: val_accuracy did not improve from 1.00000\n",
      "Epoch 16/35\n",
      "3/3 [==============================] - 0s 20ms/step - loss: 0.5710 - accuracy: 0.9585 - val_loss: 0.5488 - val_accuracy: 1.0000\n",
      "\n",
      "Epoch 00016: val_accuracy did not improve from 1.00000\n",
      "Epoch 17/35\n",
      "3/3 [==============================] - 0s 18ms/step - loss: 0.5700 - accuracy: 0.9297 - val_loss: 0.5440 - val_accuracy: 1.0000\n",
      "\n",
      "Epoch 00017: val_accuracy did not improve from 1.00000\n",
      "Epoch 18/35\n",
      "3/3 [==============================] - 0s 20ms/step - loss: 0.5626 - accuracy: 0.9537 - val_loss: 0.5391 - val_accuracy: 1.0000\n",
      "\n",
      "Epoch 00018: val_accuracy did not improve from 1.00000\n",
      "Epoch 19/35\n",
      "3/3 [==============================] - 0s 18ms/step - loss: 0.5644 - accuracy: 0.9489 - val_loss: 0.5342 - val_accuracy: 1.0000\n",
      "\n",
      "Epoch 00019: val_accuracy did not improve from 1.00000\n",
      "Epoch 20/35\n",
      "3/3 [==============================] - 0s 18ms/step - loss: 0.5648 - accuracy: 0.9557 - val_loss: 0.5292 - val_accuracy: 1.0000\n",
      "\n",
      "Epoch 00020: val_accuracy did not improve from 1.00000\n",
      "Epoch 21/35\n",
      "3/3 [==============================] - 0s 18ms/step - loss: 0.5625 - accuracy: 0.9509 - val_loss: 0.5243 - val_accuracy: 1.0000\n",
      "\n",
      "Epoch 00021: val_accuracy did not improve from 1.00000\n",
      "Epoch 22/35\n",
      "3/3 [==============================] - 0s 18ms/step - loss: 0.5545 - accuracy: 0.9509 - val_loss: 0.5193 - val_accuracy: 1.0000\n",
      "\n",
      "Epoch 00022: val_accuracy did not improve from 1.00000\n",
      "Epoch 23/35\n",
      "3/3 [==============================] - 0s 18ms/step - loss: 0.5512 - accuracy: 0.9461 - val_loss: 0.5143 - val_accuracy: 1.0000\n",
      "\n",
      "Epoch 00023: val_accuracy did not improve from 1.00000\n",
      "Epoch 24/35\n",
      "3/3 [==============================] - 0s 17ms/step - loss: 0.5331 - accuracy: 0.9721 - val_loss: 0.5092 - val_accuracy: 1.0000\n",
      "\n",
      "Epoch 00024: val_accuracy did not improve from 1.00000\n",
      "Epoch 25/35\n",
      "3/3 [==============================] - 0s 19ms/step - loss: 0.5384 - accuracy: 0.9576 - val_loss: 0.5041 - val_accuracy: 1.0000\n",
      "\n",
      "Epoch 00025: val_accuracy did not improve from 1.00000\n",
      "Epoch 26/35\n",
      "3/3 [==============================] - 0s 20ms/step - loss: 0.5302 - accuracy: 0.9817 - val_loss: 0.4988 - val_accuracy: 1.0000\n",
      "\n",
      "Epoch 00026: val_accuracy did not improve from 1.00000\n",
      "Epoch 27/35\n",
      "3/3 [==============================] - 0s 18ms/step - loss: 0.5294 - accuracy: 0.9576 - val_loss: 0.4935 - val_accuracy: 1.0000\n",
      "\n",
      "Epoch 00027: val_accuracy did not improve from 1.00000\n",
      "Epoch 28/35\n",
      "3/3 [==============================] - 0s 16ms/step - loss: 0.5234 - accuracy: 0.9788 - val_loss: 0.4882 - val_accuracy: 1.0000\n",
      "\n",
      "Epoch 00028: val_accuracy did not improve from 1.00000\n",
      "Epoch 29/35\n",
      "3/3 [==============================] - 0s 15ms/step - loss: 0.5109 - accuracy: 0.9788 - val_loss: 0.4828 - val_accuracy: 1.0000\n",
      "\n",
      "Epoch 00029: val_accuracy did not improve from 1.00000\n",
      "Epoch 30/35\n",
      "3/3 [==============================] - 0s 18ms/step - loss: 0.5047 - accuracy: 0.9884 - val_loss: 0.4775 - val_accuracy: 1.0000\n",
      "\n",
      "Epoch 00030: val_accuracy did not improve from 1.00000\n",
      "Epoch 31/35\n",
      "3/3 [==============================] - 0s 19ms/step - loss: 0.4964 - accuracy: 0.9932 - val_loss: 0.4722 - val_accuracy: 1.0000\n",
      "\n",
      "Epoch 00031: val_accuracy did not improve from 1.00000\n",
      "Epoch 32/35\n",
      "3/3 [==============================] - 0s 18ms/step - loss: 0.4949 - accuracy: 0.9788 - val_loss: 0.4669 - val_accuracy: 1.0000\n",
      "\n",
      "Epoch 00032: val_accuracy did not improve from 1.00000\n",
      "Epoch 33/35\n",
      "3/3 [==============================] - 0s 18ms/step - loss: 0.4941 - accuracy: 0.9788 - val_loss: 0.4615 - val_accuracy: 1.0000\n",
      "\n",
      "Epoch 00033: val_accuracy did not improve from 1.00000\n",
      "Epoch 34/35\n",
      "3/3 [==============================] - 0s 19ms/step - loss: 0.4999 - accuracy: 0.9932 - val_loss: 0.4561 - val_accuracy: 1.0000\n",
      "\n",
      "Epoch 00034: val_accuracy did not improve from 1.00000\n",
      "Epoch 35/35\n",
      "3/3 [==============================] - 0s 19ms/step - loss: 0.4930 - accuracy: 0.9932 - val_loss: 0.4507 - val_accuracy: 1.0000\n",
      "\n",
      "Epoch 00035: val_accuracy did not improve from 1.00000\n"
     ]
    }
   ],
   "source": [
    "n_epochs = 35\n",
    "network_history = model.fit(X_train, Y_train, batch_size=len(X_val), epochs=n_epochs, callbacks=callbacks_list, verbose=1, validation_data=(X_val, Y_val))"
   ]
  },
  {
   "cell_type": "code",
   "execution_count": 18,
   "id": "d4935427",
   "metadata": {
    "scrolled": false
   },
   "outputs": [
    {
     "name": "stdout",
     "output_type": "stream",
     "text": [
      "WARNING:tensorflow:AutoGraph could not transform <function Model.make_predict_function.<locals>.predict_function at 0x000002147FA9C288> and will run it as-is.\n",
      "Please report this to the TensorFlow team. When filing the bug, set the verbosity to 10 (on Linux, `export AUTOGRAPH_VERBOSITY=10`) and attach the full output.\n",
      "Cause: unsupported operand type(s) for -: 'NoneType' and 'int'\n",
      "To silence this warning, decorate the function with @tf.autograph.experimental.do_not_convert\n"
     ]
    },
    {
     "name": "stderr",
     "output_type": "stream",
     "text": [
      "WARNING:tensorflow:AutoGraph could not transform <function Model.make_predict_function.<locals>.predict_function at 0x000002147FA9C288> and will run it as-is.\n",
      "Please report this to the TensorFlow team. When filing the bug, set the verbosity to 10 (on Linux, `export AUTOGRAPH_VERBOSITY=10`) and attach the full output.\n",
      "Cause: unsupported operand type(s) for -: 'NoneType' and 'int'\n",
      "To silence this warning, decorate the function with @tf.autograph.experimental.do_not_convert\n"
     ]
    },
    {
     "name": "stdout",
     "output_type": "stream",
     "text": [
      "WARNING: AutoGraph could not transform <function Model.make_predict_function.<locals>.predict_function at 0x000002147FA9C288> and will run it as-is.\n",
      "Please report this to the TensorFlow team. When filing the bug, set the verbosity to 10 (on Linux, `export AUTOGRAPH_VERBOSITY=10`) and attach the full output.\n",
      "Cause: unsupported operand type(s) for -: 'NoneType' and 'int'\n",
      "To silence this warning, decorate the function with @tf.autograph.experimental.do_not_convert\n",
      "[[13  0]\n",
      " [ 0 13]]\n",
      "              precision    recall  f1-score   support\n",
      "\n",
      "         0.0       1.00      1.00      1.00        13\n",
      "         1.0       1.00      1.00      1.00        13\n",
      "\n",
      "    accuracy                           1.00        26\n",
      "   macro avg       1.00      1.00      1.00        26\n",
      "weighted avg       1.00      1.00      1.00        26\n",
      "\n"
     ]
    },
    {
     "data": {
      "image/png": "[encoded data removed]",
      "text/plain": [
       "<Figure size 432x288 with 1 Axes>"
      ]
     },
     "metadata": {
      "needs_background": "light"
     },
     "output_type": "display_data"
    },
    {
     "data": {
      "image/png": "[encoded data removed]",
      "text/plain": [
       "<Figure size 432x288 with 1 Axes>"
      ]
     },
     "metadata": {
      "needs_background": "light"
     },
     "output_type": "display_data"
    }
   ],
   "source": [
    "path = 'Models\\\\weights.best.16p.hdf5'\n",
    "Y_val_no_encoded = np.where(Y_val_no_encoded<0,0,Y_val_no_encoded)\n",
    "metrics_best(path,X_val,Y_val_no_encoded)\n",
    "\n",
    "plot(network_history)"
   ]
  },
  {
   "cell_type": "code",
   "execution_count": null,
   "id": "343c7079",
   "metadata": {},
   "outputs": [],
   "source": []
  },
  {
   "cell_type": "code",
   "execution_count": null,
   "id": "951d0867",
   "metadata": {},
   "outputs": [],
   "source": []
  }
 ],
 "metadata": {
  "kernelspec": {
   "display_name": "Python 3 (ipykernel)",
   "language": "python",
   "name": "python3"
  },
  "language_info": {
   "codemirror_mode": {
    "name": "ipython",
    "version": 3
   },
   "file_extension": ".py",
   "mimetype": "text/x-python",
   "name": "python",
   "nbconvert_exporter": "python",
   "pygments_lexer": "ipython3",
   "version": "3.7.9"
  }
 },
 "nbformat": 4,
 "nbformat_minor": 5
}
