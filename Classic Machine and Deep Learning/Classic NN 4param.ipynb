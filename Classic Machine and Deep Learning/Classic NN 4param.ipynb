{
 "cells": [
  {
   "cell_type": "code",
   "execution_count": 1,
   "id": "4d440735",
   "metadata": {},
   "outputs": [
    {
     "name": "stderr",
     "output_type": "stream",
     "text": [
      "WARNING:root:Limited tf.compat.v2.summary API due to missing TensorBoard installation.\n",
      "WARNING:root:Limited tf.compat.v2.summary API due to missing TensorBoard installation.\n",
      "WARNING:root:Limited tf.compat.v2.summary API due to missing TensorBoard installation.\n",
      "WARNING:root:Limited tf.summary API due to missing TensorBoard installation.\n"
     ]
    }
   ],
   "source": [
    "import numpy as np\n",
    "from sklearn.preprocessing import LabelEncoder, StandardScaler\n",
    "from sklearn.model_selection import train_test_split\n",
    "from tensorflow.keras.models import Sequential, load_model\n",
    "from tensorflow.keras.callbacks import ModelCheckpoint, EarlyStopping\n",
    "from tensorflow.keras.layers import Dense\n",
    "from sklearn.metrics import confusion_matrix, classification_report\n",
    "import matplotlib.pyplot as plt\n",
    "import warnings\n",
    "warnings.filterwarnings('ignore')"
   ]
  },
  {
   "cell_type": "code",
   "execution_count": 2,
   "id": "1a0f7296",
   "metadata": {},
   "outputs": [],
   "source": [
    "def plot(network_history):\n",
    "    plt.figure()\n",
    "    plt.plot(network_history.history['accuracy'])\n",
    "    plt.plot(network_history.history['val_accuracy'])\n",
    "    plt.title('Model Accuracy')\n",
    "    plt.ylabel('Accuracy')\n",
    "    plt.xlabel('Epoch')\n",
    "    plt.legend(['Train','Validation'], loc='upper right')\n",
    "    \n",
    "    plt.figure()\n",
    "    plt.plot(network_history.history['loss'])\n",
    "    plt.plot(network_history.history['val_loss'])\n",
    "    plt.title('Model Loss')\n",
    "    plt.ylabel('Loss')\n",
    "    plt.xlabel('Epoch')\n",
    "    plt.legend(['Train','Validation'], loc='lower left')\n",
    "    plt.show()\n",
    "\n",
    "\n",
    "def metrics_best(path, X_val, Y_true):\n",
    "    best_model = load_model(path)\n",
    "    Y_pred = best_model.predict(X_val)\n",
    "    print(confusion_matrix(Y_true, np.where(Y_pred>0.5,1,0)))\n",
    "    print(classification_report(Y_true, np.where(Y_pred>0.5,1,0)))"
   ]
  },
  {
   "cell_type": "code",
   "execution_count": 3,
   "id": "864d31aa",
   "metadata": {},
   "outputs": [
    {
     "name": "stdout",
     "output_type": "stream",
     "text": [
      "(100, 4) (100,)\n"
     ]
    }
   ],
   "source": [
    "iris_dataset = np.loadtxt(\"iris.txt\")\n",
    "X, Y = iris_dataset[:, 0: 4], iris_dataset[:, -1]\n",
    "print(X.shape, Y.shape)"
   ]
  },
  {
   "cell_type": "code",
   "execution_count": 4,
   "id": "c1526a69",
   "metadata": {},
   "outputs": [],
   "source": [
    "encoder = LabelEncoder()\n",
    "encoder.fit(Y)\n",
    "encoded_Y = encoder.transform(Y)"
   ]
  },
  {
   "cell_type": "code",
   "execution_count": 5,
   "id": "9b331b15",
   "metadata": {},
   "outputs": [],
   "source": [
    "X_train, X_val, Y_train, Y_val = train_test_split(X, encoded_Y, train_size=0.74, random_state=42, stratify=encoded_Y)"
   ]
  },
  {
   "cell_type": "code",
   "execution_count": 6,
   "id": "66e9e42c",
   "metadata": {},
   "outputs": [],
   "source": [
    "scaler = StandardScaler()\n",
    "scaler.fit(X_train)\n",
    "X_train = scaler.fit_transform(X_train)\n",
    "X_val = scaler.transform(X_val)"
   ]
  },
  {
   "cell_type": "code",
   "execution_count": 7,
   "id": "f66cbaee",
   "metadata": {},
   "outputs": [
    {
     "name": "stdout",
     "output_type": "stream",
     "text": [
      "Model: \"sequential\"\n",
      "_________________________________________________________________\n",
      "Layer (type)                 Output Shape              Param #   \n",
      "=================================================================\n",
      "dense (Dense)                (None, 1)                 4         \n",
      "=================================================================\n",
      "Total params: 4\n",
      "Trainable params: 4\n",
      "Non-trainable params: 0\n",
      "_________________________________________________________________\n"
     ]
    }
   ],
   "source": [
    "model = Sequential()\n",
    "model.add(Dense(1, input_dim=4, activation='sigmoid',use_bias=False))\n",
    "model.compile(loss='binary_crossentropy', optimizer='adam', metrics=['accuracy'])\n",
    "model.summary()"
   ]
  },
  {
   "cell_type": "code",
   "execution_count": 8,
   "id": "bbad6934",
   "metadata": {},
   "outputs": [],
   "source": [
    "filepath=\"Models\\\\weights.best.4param.hdf5\"\n",
    "checkpoint = ModelCheckpoint(filepath, monitor='val_accuracy', verbose=1, save_best_only=True, mode='max')\n",
    "early_stopping = EarlyStopping(monitor='val_loss', min_delta=0.01, patience=10, verbose=0, mode='min')\n",
    "callbacks_list = [checkpoint, early_stopping]"
   ]
  },
  {
   "cell_type": "code",
   "execution_count": 9,
   "id": "43cda9fb",
   "metadata": {},
   "outputs": [
    {
     "name": "stdout",
     "output_type": "stream",
     "text": [
      "Epoch 1/35\n",
      "WARNING:tensorflow:AutoGraph could not transform <function Model.make_train_function.<locals>.train_function at 0x0000024A25CF5438> and will run it as-is.\n",
      "Please report this to the TensorFlow team. When filing the bug, set the verbosity to 10 (on Linux, `export AUTOGRAPH_VERBOSITY=10`) and attach the full output.\n",
      "Cause: unsupported operand type(s) for -: 'NoneType' and 'int'\n",
      "To silence this warning, decorate the function with @tf.autograph.experimental.do_not_convert\n"
     ]
    },
    {
     "name": "stderr",
     "output_type": "stream",
     "text": [
      "WARNING:tensorflow:AutoGraph could not transform <function Model.make_train_function.<locals>.train_function at 0x0000024A25CF5438> and will run it as-is.\n",
      "Please report this to the TensorFlow team. When filing the bug, set the verbosity to 10 (on Linux, `export AUTOGRAPH_VERBOSITY=10`) and attach the full output.\n",
      "Cause: unsupported operand type(s) for -: 'NoneType' and 'int'\n",
      "To silence this warning, decorate the function with @tf.autograph.experimental.do_not_convert\n"
     ]
    },
    {
     "name": "stdout",
     "output_type": "stream",
     "text": [
      "WARNING: AutoGraph could not transform <function Model.make_train_function.<locals>.train_function at 0x0000024A25CF5438> and will run it as-is.\n",
      "Please report this to the TensorFlow team. When filing the bug, set the verbosity to 10 (on Linux, `export AUTOGRAPH_VERBOSITY=10`) and attach the full output.\n",
      "Cause: unsupported operand type(s) for -: 'NoneType' and 'int'\n",
      "To silence this warning, decorate the function with @tf.autograph.experimental.do_not_convert\n",
      "1/3 [=========>....................] - ETA: 0s - loss: 0.7615 - accuracy: 0.4615WARNING:tensorflow:AutoGraph could not transform <function Model.make_test_function.<locals>.test_function at 0x0000024A261400D8> and will run it as-is.\n",
      "Please report this to the TensorFlow team. When filing the bug, set the verbosity to 10 (on Linux, `export AUTOGRAPH_VERBOSITY=10`) and attach the full output.\n",
      "Cause: unsupported operand type(s) for -: 'NoneType' and 'int'\n",
      "To silence this warning, decorate the function with @tf.autograph.experimental.do_not_convert\n"
     ]
    },
    {
     "name": "stderr",
     "output_type": "stream",
     "text": [
      "WARNING:tensorflow:AutoGraph could not transform <function Model.make_test_function.<locals>.test_function at 0x0000024A261400D8> and will run it as-is.\n",
      "Please report this to the TensorFlow team. When filing the bug, set the verbosity to 10 (on Linux, `export AUTOGRAPH_VERBOSITY=10`) and attach the full output.\n",
      "Cause: unsupported operand type(s) for -: 'NoneType' and 'int'\n",
      "To silence this warning, decorate the function with @tf.autograph.experimental.do_not_convert\n"
     ]
    },
    {
     "name": "stdout",
     "output_type": "stream",
     "text": [
      "WARNING: AutoGraph could not transform <function Model.make_test_function.<locals>.test_function at 0x0000024A261400D8> and will run it as-is.\n",
      "Please report this to the TensorFlow team. When filing the bug, set the verbosity to 10 (on Linux, `export AUTOGRAPH_VERBOSITY=10`) and attach the full output.\n",
      "Cause: unsupported operand type(s) for -: 'NoneType' and 'int'\n",
      "To silence this warning, decorate the function with @tf.autograph.experimental.do_not_convert\n",
      "3/3 [==============================] - 1s 272ms/step - loss: 0.7743 - accuracy: 0.4557 - val_loss: 0.8064 - val_accuracy: 0.3846\n",
      "\n",
      "Epoch 00001: val_accuracy improved from -inf to 0.38462, saving model to Models\\weights.best.4param.hdf5\n",
      "Epoch 2/35\n",
      "3/3 [==============================] - 0s 22ms/step - loss: 0.7935 - accuracy: 0.4576 - val_loss: 0.8010 - val_accuracy: 0.3846\n",
      "\n",
      "Epoch 00002: val_accuracy did not improve from 0.38462\n",
      "Epoch 3/35\n",
      "3/3 [==============================] - 0s 23ms/step - loss: 0.7562 - accuracy: 0.4769 - val_loss: 0.7957 - val_accuracy: 0.3846\n",
      "\n",
      "Epoch 00003: val_accuracy did not improve from 0.38462\n",
      "Epoch 4/35\n",
      "3/3 [==============================] - 0s 22ms/step - loss: 0.7537 - accuracy: 0.4836 - val_loss: 0.7904 - val_accuracy: 0.3846\n",
      "\n",
      "Epoch 00004: val_accuracy did not improve from 0.38462\n",
      "Epoch 5/35\n",
      "3/3 [==============================] - 0s 18ms/step - loss: 0.7609 - accuracy: 0.4692 - val_loss: 0.7851 - val_accuracy: 0.4231\n",
      "\n",
      "Epoch 00005: val_accuracy improved from 0.38462 to 0.42308, saving model to Models\\weights.best.4param.hdf5\n",
      "Epoch 6/35\n",
      "3/3 [==============================] - 0s 18ms/step - loss: 0.7319 - accuracy: 0.5173 - val_loss: 0.7798 - val_accuracy: 0.4231\n",
      "\n",
      "Epoch 00006: val_accuracy did not improve from 0.42308\n",
      "Epoch 7/35\n",
      "3/3 [==============================] - 0s 16ms/step - loss: 0.7483 - accuracy: 0.5029 - val_loss: 0.7746 - val_accuracy: 0.4231\n",
      "\n",
      "Epoch 00007: val_accuracy did not improve from 0.42308\n",
      "Epoch 8/35\n",
      "3/3 [==============================] - 0s 19ms/step - loss: 0.7359 - accuracy: 0.5048 - val_loss: 0.7694 - val_accuracy: 0.4231\n",
      "\n",
      "Epoch 00008: val_accuracy did not improve from 0.42308\n",
      "Epoch 9/35\n",
      "3/3 [==============================] - 0s 19ms/step - loss: 0.7706 - accuracy: 0.4952 - val_loss: 0.7642 - val_accuracy: 0.4231\n",
      "\n",
      "Epoch 00009: val_accuracy did not improve from 0.42308\n",
      "Epoch 10/35\n",
      "3/3 [==============================] - 0s 20ms/step - loss: 0.7715 - accuracy: 0.4567 - val_loss: 0.7591 - val_accuracy: 0.4231\n",
      "\n",
      "Epoch 00010: val_accuracy did not improve from 0.42308\n",
      "Epoch 11/35\n",
      "3/3 [==============================] - 0s 20ms/step - loss: 0.7258 - accuracy: 0.5385 - val_loss: 0.7541 - val_accuracy: 0.4615\n",
      "\n",
      "Epoch 00011: val_accuracy improved from 0.42308 to 0.46154, saving model to Models\\weights.best.4param.hdf5\n",
      "Epoch 12/35\n",
      "3/3 [==============================] - 0s 19ms/step - loss: 0.7755 - accuracy: 0.4663 - val_loss: 0.7490 - val_accuracy: 0.4615\n",
      "\n",
      "Epoch 00012: val_accuracy did not improve from 0.46154\n",
      "Epoch 13/35\n",
      "3/3 [==============================] - 0s 19ms/step - loss: 0.7257 - accuracy: 0.4760 - val_loss: 0.7440 - val_accuracy: 0.4615\n",
      "\n",
      "Epoch 00013: val_accuracy did not improve from 0.46154\n",
      "Epoch 14/35\n",
      "3/3 [==============================] - 0s 19ms/step - loss: 0.7444 - accuracy: 0.4952 - val_loss: 0.7390 - val_accuracy: 0.4615\n",
      "\n",
      "Epoch 00014: val_accuracy did not improve from 0.46154\n",
      "Epoch 15/35\n",
      "3/3 [==============================] - 0s 19ms/step - loss: 0.6915 - accuracy: 0.5192 - val_loss: 0.7341 - val_accuracy: 0.5000\n",
      "\n",
      "Epoch 00015: val_accuracy improved from 0.46154 to 0.50000, saving model to Models\\weights.best.4param.hdf5\n",
      "Epoch 16/35\n",
      "3/3 [==============================] - 0s 18ms/step - loss: 0.7008 - accuracy: 0.5000 - val_loss: 0.7291 - val_accuracy: 0.5000\n",
      "\n",
      "Epoch 00016: val_accuracy did not improve from 0.50000\n",
      "Epoch 17/35\n",
      "3/3 [==============================] - 0s 17ms/step - loss: 0.7026 - accuracy: 0.5260 - val_loss: 0.7242 - val_accuracy: 0.5000\n",
      "\n",
      "Epoch 00017: val_accuracy did not improve from 0.50000\n",
      "Epoch 18/35\n",
      "3/3 [==============================] - 0s 21ms/step - loss: 0.6788 - accuracy: 0.5587 - val_loss: 0.7194 - val_accuracy: 0.5000\n",
      "\n",
      "Epoch 00018: val_accuracy did not improve from 0.50000\n",
      "Epoch 19/35\n",
      "3/3 [==============================] - 0s 17ms/step - loss: 0.6819 - accuracy: 0.5732 - val_loss: 0.7145 - val_accuracy: 0.5000\n",
      "\n",
      "Epoch 00019: val_accuracy did not improve from 0.50000\n",
      "Epoch 20/35\n",
      "3/3 [==============================] - 0s 18ms/step - loss: 0.6901 - accuracy: 0.5722 - val_loss: 0.7097 - val_accuracy: 0.5000\n",
      "\n",
      "Epoch 00020: val_accuracy did not improve from 0.50000\n",
      "Epoch 21/35\n",
      "3/3 [==============================] - ETA: 0s - loss: 0.6904 - accuracy: 0.57 - 0s 18ms/step - loss: 0.6896 - accuracy: 0.5790 - val_loss: 0.7049 - val_accuracy: 0.5000\n",
      "\n",
      "Epoch 00021: val_accuracy did not improve from 0.50000\n",
      "Epoch 22/35\n",
      "3/3 [==============================] - 0s 17ms/step - loss: 0.6684 - accuracy: 0.5886 - val_loss: 0.7002 - val_accuracy: 0.5385\n",
      "\n",
      "Epoch 00022: val_accuracy improved from 0.50000 to 0.53846, saving model to Models\\weights.best.4param.hdf5\n",
      "Epoch 23/35\n",
      "3/3 [==============================] - 0s 18ms/step - loss: 0.6447 - accuracy: 0.6127 - val_loss: 0.6955 - val_accuracy: 0.5385\n",
      "\n",
      "Epoch 00023: val_accuracy did not improve from 0.53846\n",
      "Epoch 24/35\n",
      "3/3 [==============================] - 0s 18ms/step - loss: 0.6988 - accuracy: 0.5502 - val_loss: 0.6908 - val_accuracy: 0.5385\n",
      "\n",
      "Epoch 00024: val_accuracy did not improve from 0.53846\n",
      "Epoch 25/35\n",
      "3/3 [==============================] - 0s 18ms/step - loss: 0.6189 - accuracy: 0.6367 - val_loss: 0.6862 - val_accuracy: 0.5769\n",
      "\n",
      "Epoch 00025: val_accuracy improved from 0.53846 to 0.57692, saving model to Models\\weights.best.4param.hdf5\n",
      "Epoch 26/35\n",
      "3/3 [==============================] - 0s 18ms/step - loss: 0.6430 - accuracy: 0.6271 - val_loss: 0.6816 - val_accuracy: 0.5769\n",
      "\n",
      "Epoch 00026: val_accuracy did not improve from 0.57692\n",
      "Epoch 27/35\n",
      "3/3 [==============================] - 0s 19ms/step - loss: 0.6740 - accuracy: 0.5810 - val_loss: 0.6770 - val_accuracy: 0.5769\n",
      "\n",
      "Epoch 00027: val_accuracy did not improve from 0.57692\n",
      "Epoch 28/35\n",
      "3/3 [==============================] - 0s 19ms/step - loss: 0.6503 - accuracy: 0.6406 - val_loss: 0.6724 - val_accuracy: 0.5769\n",
      "\n",
      "Epoch 00028: val_accuracy did not improve from 0.57692\n",
      "Epoch 29/35\n",
      "3/3 [==============================] - 0s 18ms/step - loss: 0.6354 - accuracy: 0.6281 - val_loss: 0.6679 - val_accuracy: 0.5769\n",
      "\n",
      "Epoch 00029: val_accuracy did not improve from 0.57692\n",
      "Epoch 30/35\n",
      "3/3 [==============================] - 0s 18ms/step - loss: 0.6782 - accuracy: 0.6137 - val_loss: 0.6634 - val_accuracy: 0.5769\n",
      "\n",
      "Epoch 00030: val_accuracy did not improve from 0.57692\n",
      "Epoch 31/35\n",
      "3/3 [==============================] - 0s 18ms/step - loss: 0.6430 - accuracy: 0.6233 - val_loss: 0.6590 - val_accuracy: 0.5769\n",
      "\n",
      "Epoch 00031: val_accuracy did not improve from 0.57692\n",
      "Epoch 32/35\n",
      "3/3 [==============================] - 0s 17ms/step - loss: 0.6747 - accuracy: 0.5800 - val_loss: 0.6545 - val_accuracy: 0.5769\n",
      "\n",
      "Epoch 00032: val_accuracy did not improve from 0.57692\n",
      "Epoch 33/35\n",
      "3/3 [==============================] - 0s 18ms/step - loss: 0.6379 - accuracy: 0.5848 - val_loss: 0.6501 - val_accuracy: 0.5769\n",
      "\n",
      "Epoch 00033: val_accuracy did not improve from 0.57692\n",
      "Epoch 34/35\n",
      "3/3 [==============================] - 0s 15ms/step - loss: 0.5976 - accuracy: 0.6329 - val_loss: 0.6458 - val_accuracy: 0.5769\n",
      "\n",
      "Epoch 00034: val_accuracy did not improve from 0.57692\n",
      "Epoch 35/35\n",
      "3/3 [==============================] - 0s 18ms/step - loss: 0.6243 - accuracy: 0.6522 - val_loss: 0.6415 - val_accuracy: 0.5769\n",
      "\n",
      "Epoch 00035: val_accuracy did not improve from 0.57692\n"
     ]
    }
   ],
   "source": [
    "n_epochs = 35\n",
    "network_history = model.fit(X_train, Y_train, batch_size=len(X_val), epochs=n_epochs, callbacks=callbacks_list, verbose=1, validation_data=(X_val, Y_val))"
   ]
  },
  {
   "cell_type": "code",
   "execution_count": null,
   "id": "e8f61c83",
   "metadata": {},
   "outputs": [],
   "source": []
  },
  {
   "cell_type": "code",
   "execution_count": 10,
   "id": "12fc3b43",
   "metadata": {},
   "outputs": [
    {
     "name": "stdout",
     "output_type": "stream",
     "text": [
      "WARNING:tensorflow:AutoGraph could not transform <function Model.make_predict_function.<locals>.predict_function at 0x0000024A261DE1F8> and will run it as-is.\n",
      "Please report this to the TensorFlow team. When filing the bug, set the verbosity to 10 (on Linux, `export AUTOGRAPH_VERBOSITY=10`) and attach the full output.\n",
      "Cause: unsupported operand type(s) for -: 'NoneType' and 'int'\n",
      "To silence this warning, decorate the function with @tf.autograph.experimental.do_not_convert\n"
     ]
    },
    {
     "name": "stderr",
     "output_type": "stream",
     "text": [
      "WARNING:tensorflow:AutoGraph could not transform <function Model.make_predict_function.<locals>.predict_function at 0x0000024A261DE1F8> and will run it as-is.\n",
      "Please report this to the TensorFlow team. When filing the bug, set the verbosity to 10 (on Linux, `export AUTOGRAPH_VERBOSITY=10`) and attach the full output.\n",
      "Cause: unsupported operand type(s) for -: 'NoneType' and 'int'\n",
      "To silence this warning, decorate the function with @tf.autograph.experimental.do_not_convert\n"
     ]
    },
    {
     "name": "stdout",
     "output_type": "stream",
     "text": [
      "WARNING: AutoGraph could not transform <function Model.make_predict_function.<locals>.predict_function at 0x0000024A261DE1F8> and will run it as-is.\n",
      "Please report this to the TensorFlow team. When filing the bug, set the verbosity to 10 (on Linux, `export AUTOGRAPH_VERBOSITY=10`) and attach the full output.\n",
      "Cause: unsupported operand type(s) for -: 'NoneType' and 'int'\n",
      "To silence this warning, decorate the function with @tf.autograph.experimental.do_not_convert\n",
      "[[9 4]\n",
      " [7 6]]\n",
      "              precision    recall  f1-score   support\n",
      "\n",
      "           0       0.56      0.69      0.62        13\n",
      "           1       0.60      0.46      0.52        13\n",
      "\n",
      "    accuracy                           0.58        26\n",
      "   macro avg       0.58      0.58      0.57        26\n",
      "weighted avg       0.58      0.58      0.57        26\n",
      "\n"
     ]
    },
    {
     "data": {
      "image/png": "[encoded data removed]",
      "text/plain": [
       "<Figure size 432x288 with 1 Axes>"
      ]
     },
     "metadata": {
      "needs_background": "light"
     },
     "output_type": "display_data"
    },
    {
     "data": {
      "image/png": "[encoded data removed]",
      "text/plain": [
       "<Figure size 432x288 with 1 Axes>"
      ]
     },
     "metadata": {
      "needs_background": "light"
     },
     "output_type": "display_data"
    }
   ],
   "source": [
    "path=\"Models\\\\weights.best.4param.hdf5\"\n",
    "#Y_val_no_encoded = np.where(Y_val<0,0,Y_val_no_encoded)\n",
    "metrics_best(path,X_val,Y_val)\n",
    "plot(network_history)"
   ]
  },
  {
   "cell_type": "code",
   "execution_count": null,
   "id": "76e6816b",
   "metadata": {},
   "outputs": [],
   "source": []
  },
  {
   "cell_type": "code",
   "execution_count": null,
   "id": "ba8e0819",
   "metadata": {},
   "outputs": [],
   "source": []
  }
 ],
 "metadata": {
  "kernelspec": {
   "display_name": "Python 3 (ipykernel)",
   "language": "python",
   "name": "python3"
  },
  "language_info": {
   "codemirror_mode": {
    "name": "ipython",
    "version": 3
   },
   "file_extension": ".py",
   "mimetype": "text/x-python",
   "name": "python",
   "nbconvert_exporter": "python",
   "pygments_lexer": "ipython3",
   "version": "3.7.9"
  }
 },
 "nbformat": 4,
 "nbformat_minor": 5
}
