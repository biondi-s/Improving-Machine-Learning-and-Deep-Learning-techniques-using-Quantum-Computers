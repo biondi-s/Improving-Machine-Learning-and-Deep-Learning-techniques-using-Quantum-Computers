{
 "cells": [
  {
   "cell_type": "code",
   "execution_count": 1,
   "id": "2f09c4a3",
   "metadata": {},
   "outputs": [
    {
     "name": "stderr",
     "output_type": "stream",
     "text": [
      "WARNING:root:Limited tf.compat.v2.summary API due to missing TensorBoard installation.\n",
      "WARNING:root:Limited tf.compat.v2.summary API due to missing TensorBoard installation.\n",
      "WARNING:root:Limited tf.compat.v2.summary API due to missing TensorBoard installation.\n",
      "WARNING:root:Limited tf.summary API due to missing TensorBoard installation.\n"
     ]
    }
   ],
   "source": [
    "import numpy as np\n",
    "import tensorflow as tf\n",
    "from sklearn.model_selection import train_test_split\n",
    "from sklearn.preprocessing import StandardScaler, LabelEncoder\n",
    "from tensorflow.keras.models import Sequential, load_model\n",
    "from tensorflow.keras.layers import Dense\n",
    "from tensorflow.keras.utils import to_categorical\n",
    "from tensorflow.keras import optimizers\n",
    "from tensorflow.keras.callbacks import ModelCheckpoint, EarlyStopping\n",
    "from sklearn.metrics import confusion_matrix, classification_report\n",
    "import matplotlib.pyplot as plt\n",
    "import warnings\n",
    "warnings.filterwarnings('ignore')"
   ]
  },
  {
   "cell_type": "code",
   "execution_count": 2,
   "id": "77dfd3bd",
   "metadata": {},
   "outputs": [],
   "source": [
    "def plot(network_history):\n",
    "    plt.figure()\n",
    "    plt.plot(network_history.history['accuracy'])\n",
    "    plt.plot(network_history.history['val_accuracy'])\n",
    "    plt.title('Model Accuracy')\n",
    "    plt.ylabel('Accuracy')\n",
    "    plt.xlabel('Epoch')\n",
    "    plt.legend(['Train','Validation'], loc='upper right')\n",
    "    \n",
    "    plt.figure()\n",
    "    plt.plot(network_history.history['loss'])\n",
    "    plt.plot(network_history.history['val_loss'])\n",
    "    plt.title('Model Loss')\n",
    "    plt.ylabel('Loss')\n",
    "    plt.xlabel('Epoch')\n",
    "    plt.legend(['Train','Validation'], loc='lower left')\n",
    "    plt.show()\n",
    "\n",
    "\n",
    "def metrics_best(path, X_val, Y_true):\n",
    "    best_model = load_model(path)\n",
    "    Y_pred = best_model.predict(X_val)\n",
    "    print(confusion_matrix(Y_true, np.argmax(Y_pred, axis=1)))\n",
    "    print(classification_report(Y_true, np.argmax(Y_pred, axis=1)))"
   ]
  },
  {
   "cell_type": "code",
   "execution_count": 3,
   "id": "50b2c79d",
   "metadata": {},
   "outputs": [
    {
     "name": "stdout",
     "output_type": "stream",
     "text": [
      "(100, 4) (100,)\n"
     ]
    }
   ],
   "source": [
    "iris_dataset = np.loadtxt(\"iris.txt\")\n",
    "X, Y = iris_dataset[:, 0: 4], iris_dataset[:, -1]\n",
    "print(X.shape, Y.shape)"
   ]
  },
  {
   "cell_type": "code",
   "execution_count": 4,
   "id": "b5b6c8b1",
   "metadata": {},
   "outputs": [],
   "source": [
    "X_train, X_val, Y_train, Y_val = train_test_split(X, Y, train_size=0.74, random_state=42, stratify=Y)"
   ]
  },
  {
   "cell_type": "code",
   "execution_count": 5,
   "id": "9120b414",
   "metadata": {},
   "outputs": [
    {
     "name": "stdout",
     "output_type": "stream",
     "text": [
      "(74, 4) (26, 4) (74,) (26,)\n"
     ]
    }
   ],
   "source": [
    "print(X_train.shape, X_val.shape, Y_train.shape, Y_val.shape)"
   ]
  },
  {
   "cell_type": "code",
   "execution_count": 6,
   "id": "9f654641",
   "metadata": {},
   "outputs": [],
   "source": [
    "scaler = StandardScaler()\n",
    "scaler.fit(X_train)\n",
    "X_train = scaler.fit_transform(X_train)\n",
    "X_val = scaler.transform(X_val)"
   ]
  },
  {
   "cell_type": "code",
   "execution_count": 7,
   "id": "1239e93e",
   "metadata": {},
   "outputs": [],
   "source": [
    "encoder = LabelEncoder()\n",
    "Y_train = encoder.fit_transform(Y_train).astype(np.int32)\n",
    "Y_train = to_categorical(Y_train)\n",
    "Y_val_no_encoded = Y_val.copy()\n",
    "Y_val = encoder.transform(Y_val).astype(np.int32)\n",
    "Y_val = to_categorical(Y_val)\n"
   ]
  },
  {
   "cell_type": "code",
   "execution_count": 8,
   "id": "b72e4bbb",
   "metadata": {},
   "outputs": [
    {
     "name": "stdout",
     "output_type": "stream",
     "text": [
      "(74, 4) (26, 4) (74, 2) (26, 2)\n"
     ]
    }
   ],
   "source": [
    "print(X_train.shape, X_val.shape, Y_train.shape, Y_val.shape)"
   ]
  },
  {
   "cell_type": "code",
   "execution_count": 9,
   "id": "0398cb53",
   "metadata": {},
   "outputs": [],
   "source": [
    "input_dim = X_train.shape[1]\n",
    "nb_classes = Y_train.shape[1]"
   ]
  },
  {
   "cell_type": "code",
   "execution_count": 10,
   "id": "289055d7",
   "metadata": {},
   "outputs": [
    {
     "data": {
      "text/plain": [
       "(4, 2)"
      ]
     },
     "execution_count": 10,
     "metadata": {},
     "output_type": "execute_result"
    }
   ],
   "source": [
    "input_dim, nb_classes"
   ]
  },
  {
   "cell_type": "code",
   "execution_count": 11,
   "id": "ea4e5ff0",
   "metadata": {},
   "outputs": [],
   "source": [
    "def my_loss_fn(y_true, y_pred):\n",
    "    squared_difference = tf.square(y_true - y_pred)\n",
    "    return tf.reduce_mean(squared_difference, axis=-1) "
   ]
  },
  {
   "cell_type": "code",
   "execution_count": 12,
   "id": "6c9ebefe",
   "metadata": {},
   "outputs": [],
   "source": [
    "model = Sequential()\n",
    "model.add(Dense(nb_classes, input_shape=(input_dim,), activation = \"sigmoid\",use_bias=False))"
   ]
  },
  {
   "cell_type": "code",
   "execution_count": 13,
   "id": "d2064b20",
   "metadata": {},
   "outputs": [
    {
     "name": "stdout",
     "output_type": "stream",
     "text": [
      "Model: \"sequential\"\n",
      "_________________________________________________________________\n",
      "Layer (type)                 Output Shape              Param #   \n",
      "=================================================================\n",
      "dense (Dense)                (None, 2)                 8         \n",
      "=================================================================\n",
      "Total params: 8\n",
      "Trainable params: 8\n",
      "Non-trainable params: 0\n",
      "_________________________________________________________________\n"
     ]
    }
   ],
   "source": [
    "model.summary()"
   ]
  },
  {
   "cell_type": "code",
   "execution_count": 14,
   "id": "d8949851",
   "metadata": {},
   "outputs": [],
   "source": [
    "sgd = optimizers.SGD(learning_rate=0.01, momentum=0, nesterov=False)"
   ]
  },
  {
   "cell_type": "code",
   "execution_count": 15,
   "id": "a094fe0f",
   "metadata": {},
   "outputs": [],
   "source": [
    "model.compile(optimizer=sgd, loss='categorical_crossentropy',metrics=['accuracy'])"
   ]
  },
  {
   "cell_type": "code",
   "execution_count": 16,
   "id": "18cdcc8a",
   "metadata": {},
   "outputs": [],
   "source": [
    "filepath=\"Models\\\\weights.best.hdf5\"\n",
    "checkpoint = ModelCheckpoint(filepath, monitor='val_accuracy', verbose=1, save_best_only=True, mode='max')\n",
    "early_stopping = EarlyStopping(monitor='val_loss', min_delta=0.01, patience=10, verbose=0, mode='min')\n",
    "callbacks_list = [checkpoint, early_stopping]"
   ]
  },
  {
   "cell_type": "code",
   "execution_count": 17,
   "id": "d392a9f3",
   "metadata": {},
   "outputs": [
    {
     "name": "stdout",
     "output_type": "stream",
     "text": [
      "Epoch 1/35\n",
      "WARNING:tensorflow:AutoGraph could not transform <function Model.make_train_function.<locals>.train_function at 0x000001DF170D8A68> and will run it as-is.\n",
      "Please report this to the TensorFlow team. When filing the bug, set the verbosity to 10 (on Linux, `export AUTOGRAPH_VERBOSITY=10`) and attach the full output.\n",
      "Cause: unsupported operand type(s) for -: 'NoneType' and 'int'\n",
      "To silence this warning, decorate the function with @tf.autograph.experimental.do_not_convert\n"
     ]
    },
    {
     "name": "stderr",
     "output_type": "stream",
     "text": [
      "WARNING:tensorflow:AutoGraph could not transform <function Model.make_train_function.<locals>.train_function at 0x000001DF170D8A68> and will run it as-is.\n",
      "Please report this to the TensorFlow team. When filing the bug, set the verbosity to 10 (on Linux, `export AUTOGRAPH_VERBOSITY=10`) and attach the full output.\n",
      "Cause: unsupported operand type(s) for -: 'NoneType' and 'int'\n",
      "To silence this warning, decorate the function with @tf.autograph.experimental.do_not_convert\n"
     ]
    },
    {
     "name": "stdout",
     "output_type": "stream",
     "text": [
      "WARNING: AutoGraph could not transform <function Model.make_train_function.<locals>.train_function at 0x000001DF170D8A68> and will run it as-is.\n",
      "Please report this to the TensorFlow team. When filing the bug, set the verbosity to 10 (on Linux, `export AUTOGRAPH_VERBOSITY=10`) and attach the full output.\n",
      "Cause: unsupported operand type(s) for -: 'NoneType' and 'int'\n",
      "To silence this warning, decorate the function with @tf.autograph.experimental.do_not_convert\n",
      "1/3 [=========>....................] - ETA: 0s - loss: 0.7848 - accuracy: 0.5769WARNING:tensorflow:AutoGraph could not transform <function Model.make_test_function.<locals>.test_function at 0x000001DF17500948> and will run it as-is.\n",
      "Please report this to the TensorFlow team. When filing the bug, set the verbosity to 10 (on Linux, `export AUTOGRAPH_VERBOSITY=10`) and attach the full output.\n",
      "Cause: unsupported operand type(s) for -: 'NoneType' and 'int'\n",
      "To silence this warning, decorate the function with @tf.autograph.experimental.do_not_convert\n"
     ]
    },
    {
     "name": "stderr",
     "output_type": "stream",
     "text": [
      "WARNING:tensorflow:AutoGraph could not transform <function Model.make_test_function.<locals>.test_function at 0x000001DF17500948> and will run it as-is.\n",
      "Please report this to the TensorFlow team. When filing the bug, set the verbosity to 10 (on Linux, `export AUTOGRAPH_VERBOSITY=10`) and attach the full output.\n",
      "Cause: unsupported operand type(s) for -: 'NoneType' and 'int'\n",
      "To silence this warning, decorate the function with @tf.autograph.experimental.do_not_convert\n"
     ]
    },
    {
     "name": "stdout",
     "output_type": "stream",
     "text": [
      "WARNING: AutoGraph could not transform <function Model.make_test_function.<locals>.test_function at 0x000001DF17500948> and will run it as-is.\n",
      "Please report this to the TensorFlow team. When filing the bug, set the verbosity to 10 (on Linux, `export AUTOGRAPH_VERBOSITY=10`) and attach the full output.\n",
      "Cause: unsupported operand type(s) for -: 'NoneType' and 'int'\n",
      "To silence this warning, decorate the function with @tf.autograph.experimental.do_not_convert\n",
      "3/3 [==============================] - 1s 220ms/step - loss: 0.7449 - accuracy: 0.5674 - val_loss: 0.8290 - val_accuracy: 0.6154\n",
      "\n",
      "Epoch 00001: val_accuracy improved from -inf to 0.61538, saving model to Models\\weights.best.hdf5\n",
      "Epoch 2/35\n",
      "3/3 [==============================] - 0s 24ms/step - loss: 0.6895 - accuracy: 0.5877 - val_loss: 0.7989 - val_accuracy: 0.6154\n",
      "\n",
      "Epoch 00002: val_accuracy did not improve from 0.61538\n",
      "Epoch 3/35\n",
      "3/3 [==============================] - 0s 28ms/step - loss: 0.6683 - accuracy: 0.6349 - val_loss: 0.7703 - val_accuracy: 0.6538\n",
      "\n",
      "Epoch 00003: val_accuracy improved from 0.61538 to 0.65385, saving model to Models\\weights.best.hdf5\n",
      "Epoch 4/35\n",
      "3/3 [==============================] - 0s 28ms/step - loss: 0.6792 - accuracy: 0.6340 - val_loss: 0.7432 - val_accuracy: 0.6538\n",
      "\n",
      "Epoch 00004: val_accuracy did not improve from 0.65385\n",
      "Epoch 5/35\n",
      "3/3 [==============================] - 0s 24ms/step - loss: 0.6618 - accuracy: 0.6292 - val_loss: 0.7179 - val_accuracy: 0.6538\n",
      "\n",
      "Epoch 00005: val_accuracy did not improve from 0.65385\n",
      "Epoch 6/35\n",
      "3/3 [==============================] - 0s 26ms/step - loss: 0.5674 - accuracy: 0.7004 - val_loss: 0.6937 - val_accuracy: 0.6538\n",
      "\n",
      "Epoch 00006: val_accuracy did not improve from 0.65385\n",
      "Epoch 7/35\n",
      "3/3 [==============================] - 0s 24ms/step - loss: 0.6339 - accuracy: 0.6898 - val_loss: 0.6709 - val_accuracy: 0.6538\n",
      "\n",
      "Epoch 00007: val_accuracy did not improve from 0.65385\n",
      "Epoch 8/35\n",
      "3/3 [==============================] - 0s 28ms/step - loss: 0.5717 - accuracy: 0.7158 - val_loss: 0.6493 - val_accuracy: 0.6923\n",
      "\n",
      "Epoch 00008: val_accuracy improved from 0.65385 to 0.69231, saving model to Models\\weights.best.hdf5\n",
      "Epoch 9/35\n",
      "3/3 [==============================] - 0s 28ms/step - loss: 0.5347 - accuracy: 0.7399 - val_loss: 0.6285 - val_accuracy: 0.6923\n",
      "\n",
      "Epoch 00009: val_accuracy did not improve from 0.69231\n",
      "Epoch 10/35\n",
      "3/3 [==============================] - 0s 24ms/step - loss: 0.5543 - accuracy: 0.7409 - val_loss: 0.6091 - val_accuracy: 0.6923\n",
      "\n",
      "Epoch 00010: val_accuracy did not improve from 0.69231\n",
      "Epoch 11/35\n",
      "3/3 [==============================] - 0s 24ms/step - loss: 0.4981 - accuracy: 0.7977 - val_loss: 0.5905 - val_accuracy: 0.6923\n",
      "\n",
      "Epoch 00011: val_accuracy did not improve from 0.69231\n",
      "Epoch 12/35\n",
      "3/3 [==============================] - 0s 24ms/step - loss: 0.4718 - accuracy: 0.8093 - val_loss: 0.5728 - val_accuracy: 0.6923\n",
      "\n",
      "Epoch 00012: val_accuracy did not improve from 0.69231\n",
      "Epoch 13/35\n",
      "3/3 [==============================] - 0s 24ms/step - loss: 0.5140 - accuracy: 0.7852 - val_loss: 0.5561 - val_accuracy: 0.7308\n",
      "\n",
      "Epoch 00013: val_accuracy improved from 0.69231 to 0.73077, saving model to Models\\weights.best.hdf5\n",
      "Epoch 14/35\n",
      "3/3 [==============================] - 0s 32ms/step - loss: 0.4564 - accuracy: 0.7948 - val_loss: 0.5404 - val_accuracy: 0.7308\n",
      "\n",
      "Epoch 00014: val_accuracy did not improve from 0.73077\n",
      "Epoch 15/35\n",
      "3/3 [==============================] - 0s 28ms/step - loss: 0.4317 - accuracy: 0.7968 - val_loss: 0.5251 - val_accuracy: 0.7308\n",
      "\n",
      "Epoch 00015: val_accuracy did not improve from 0.73077\n",
      "Epoch 16/35\n",
      "3/3 [==============================] - 0s 28ms/step - loss: 0.4021 - accuracy: 0.8372 - val_loss: 0.5105 - val_accuracy: 0.7308\n",
      "\n",
      "Epoch 00016: val_accuracy did not improve from 0.73077\n",
      "Epoch 17/35\n",
      "3/3 [==============================] - 0s 28ms/step - loss: 0.3960 - accuracy: 0.8584 - val_loss: 0.4967 - val_accuracy: 0.7692\n",
      "\n",
      "Epoch 00017: val_accuracy improved from 0.73077 to 0.76923, saving model to Models\\weights.best.hdf5\n",
      "Epoch 18/35\n",
      "3/3 [==============================] - 0s 24ms/step - loss: 0.3715 - accuracy: 0.8536 - val_loss: 0.4834 - val_accuracy: 0.7692\n",
      "\n",
      "Epoch 00018: val_accuracy did not improve from 0.76923\n",
      "Epoch 19/35\n",
      "3/3 [==============================] - 0s 24ms/step - loss: 0.3395 - accuracy: 0.8795 - val_loss: 0.4704 - val_accuracy: 0.8077\n",
      "\n",
      "Epoch 00019: val_accuracy improved from 0.76923 to 0.80769, saving model to Models\\weights.best.hdf5\n",
      "Epoch 20/35\n",
      "3/3 [==============================] - 0s 24ms/step - loss: 0.3654 - accuracy: 0.8699 - val_loss: 0.4583 - val_accuracy: 0.8077\n",
      "\n",
      "Epoch 00020: val_accuracy did not improve from 0.80769\n",
      "Epoch 21/35\n",
      "3/3 [==============================] - 0s 24ms/step - loss: 0.3502 - accuracy: 0.8699 - val_loss: 0.4467 - val_accuracy: 0.8077\n",
      "\n",
      "Epoch 00021: val_accuracy did not improve from 0.80769\n",
      "Epoch 22/35\n",
      "3/3 [==============================] - 0s 24ms/step - loss: 0.3305 - accuracy: 0.9075 - val_loss: 0.4357 - val_accuracy: 0.8077\n",
      "\n",
      "Epoch 00022: val_accuracy did not improve from 0.80769\n",
      "Epoch 23/35\n",
      "3/3 [==============================] - 0s 24ms/step - loss: 0.3072 - accuracy: 0.9075 - val_loss: 0.4250 - val_accuracy: 0.8077\n",
      "\n",
      "Epoch 00023: val_accuracy did not improve from 0.80769\n",
      "Epoch 24/35\n",
      "3/3 [==============================] - 0s 28ms/step - loss: 0.3539 - accuracy: 0.8834 - val_loss: 0.4149 - val_accuracy: 0.8077\n",
      "\n",
      "Epoch 00024: val_accuracy did not improve from 0.80769\n",
      "Epoch 25/35\n",
      "3/3 [==============================] - 0s 24ms/step - loss: 0.3113 - accuracy: 0.8931 - val_loss: 0.4052 - val_accuracy: 0.8077\n",
      "\n",
      "Epoch 00025: val_accuracy did not improve from 0.80769\n",
      "Epoch 26/35\n",
      "3/3 [==============================] - 0s 30ms/step - loss: 0.2872 - accuracy: 0.9046 - val_loss: 0.3959 - val_accuracy: 0.8462\n",
      "\n",
      "Epoch 00026: val_accuracy improved from 0.80769 to 0.84615, saving model to Models\\weights.best.hdf5\n",
      "Epoch 27/35\n",
      "3/3 [==============================] - ETA: 0s - loss: 0.2567 - accuracy: 0.92 - 0s 24ms/step - loss: 0.2743 - accuracy: 0.9258 - val_loss: 0.3868 - val_accuracy: 0.8462\n",
      "\n",
      "Epoch 00027: val_accuracy did not improve from 0.84615\n",
      "Epoch 28/35\n",
      "3/3 [==============================] - 0s 24ms/step - loss: 0.3247 - accuracy: 0.8873 - val_loss: 0.3782 - val_accuracy: 0.8462\n",
      "\n",
      "Epoch 00028: val_accuracy did not improve from 0.84615\n",
      "Epoch 29/35\n",
      "3/3 [==============================] - 0s 24ms/step - loss: 0.2685 - accuracy: 0.9354 - val_loss: 0.3699 - val_accuracy: 0.8462\n",
      "\n",
      "Epoch 00029: val_accuracy did not improve from 0.84615\n",
      "Epoch 30/35\n",
      "3/3 [==============================] - 0s 24ms/step - loss: 0.2688 - accuracy: 0.9518 - val_loss: 0.3620 - val_accuracy: 0.8462\n",
      "\n",
      "Epoch 00030: val_accuracy did not improve from 0.84615\n",
      "Epoch 31/35\n",
      "3/3 [==============================] - 0s 28ms/step - loss: 0.2757 - accuracy: 0.9229 - val_loss: 0.3545 - val_accuracy: 0.8462\n",
      "\n",
      "Epoch 00031: val_accuracy did not improve from 0.84615\n",
      "Epoch 32/35\n",
      "3/3 [==============================] - 0s 24ms/step - loss: 0.2673 - accuracy: 0.9489 - val_loss: 0.3472 - val_accuracy: 0.8462\n",
      "\n",
      "Epoch 00032: val_accuracy did not improve from 0.84615\n",
      "Epoch 33/35\n",
      "3/3 [==============================] - 0s 24ms/step - loss: 0.2623 - accuracy: 0.9441 - val_loss: 0.3402 - val_accuracy: 0.8462\n",
      "\n",
      "Epoch 00033: val_accuracy did not improve from 0.84615\n",
      "Epoch 34/35\n",
      "3/3 [==============================] - 0s 32ms/step - loss: 0.2429 - accuracy: 0.9585 - val_loss: 0.3334 - val_accuracy: 0.8462\n",
      "\n",
      "Epoch 00034: val_accuracy did not improve from 0.84615\n",
      "Epoch 35/35\n",
      "3/3 [==============================] - 0s 24ms/step - loss: 0.2404 - accuracy: 0.9537 - val_loss: 0.3268 - val_accuracy: 0.8462\n",
      "\n",
      "Epoch 00035: val_accuracy did not improve from 0.84615\n"
     ]
    }
   ],
   "source": [
    "n_epochs = 35\n",
    "network_history = model.fit(X_train, Y_train, batch_size=len(X_val), epochs=n_epochs, callbacks=callbacks_list, verbose=1, validation_data=(X_val, Y_val))"
   ]
  },
  {
   "cell_type": "code",
   "execution_count": 18,
   "id": "d4935427",
   "metadata": {
    "scrolled": false
   },
   "outputs": [
    {
     "name": "stdout",
     "output_type": "stream",
     "text": [
      "WARNING:tensorflow:AutoGraph could not transform <function Model.make_predict_function.<locals>.predict_function at 0x000001DF18541288> and will run it as-is.\n",
      "Please report this to the TensorFlow team. When filing the bug, set the verbosity to 10 (on Linux, `export AUTOGRAPH_VERBOSITY=10`) and attach the full output.\n",
      "Cause: unsupported operand type(s) for -: 'NoneType' and 'int'\n",
      "To silence this warning, decorate the function with @tf.autograph.experimental.do_not_convert\n"
     ]
    },
    {
     "name": "stderr",
     "output_type": "stream",
     "text": [
      "WARNING:tensorflow:AutoGraph could not transform <function Model.make_predict_function.<locals>.predict_function at 0x000001DF18541288> and will run it as-is.\n",
      "Please report this to the TensorFlow team. When filing the bug, set the verbosity to 10 (on Linux, `export AUTOGRAPH_VERBOSITY=10`) and attach the full output.\n",
      "Cause: unsupported operand type(s) for -: 'NoneType' and 'int'\n",
      "To silence this warning, decorate the function with @tf.autograph.experimental.do_not_convert\n"
     ]
    },
    {
     "name": "stdout",
     "output_type": "stream",
     "text": [
      "WARNING: AutoGraph could not transform <function Model.make_predict_function.<locals>.predict_function at 0x000001DF18541288> and will run it as-is.\n",
      "Please report this to the TensorFlow team. When filing the bug, set the verbosity to 10 (on Linux, `export AUTOGRAPH_VERBOSITY=10`) and attach the full output.\n",
      "Cause: unsupported operand type(s) for -: 'NoneType' and 'int'\n",
      "To silence this warning, decorate the function with @tf.autograph.experimental.do_not_convert\n",
      "[[11  2]\n",
      " [ 2 11]]\n",
      "              precision    recall  f1-score   support\n",
      "\n",
      "         0.0       0.85      0.85      0.85        13\n",
      "         1.0       0.85      0.85      0.85        13\n",
      "\n",
      "    accuracy                           0.85        26\n",
      "   macro avg       0.85      0.85      0.85        26\n",
      "weighted avg       0.85      0.85      0.85        26\n",
      "\n"
     ]
    },
    {
     "data": {
      "image/png": "[encoded data removed]",
      "text/plain": [
       "<Figure size 432x288 with 1 Axes>"
      ]
     },
     "metadata": {
      "needs_background": "light"
     },
     "output_type": "display_data"
    },
    {
     "data": {
      "image/png": "[encoded data removed]",
      "text/plain": [
       "<Figure size 432x288 with 1 Axes>"
      ]
     },
     "metadata": {
      "needs_background": "light"
     },
     "output_type": "display_data"
    }
   ],
   "source": [
    "path = 'Models\\\\weights.best.hdf5'\n",
    "Y_val_no_encoded = np.where(Y_val_no_encoded<0,0,Y_val_no_encoded)\n",
    "metrics_best(path,X_val,Y_val_no_encoded)\n",
    "\n",
    "plot(network_history)"
   ]
  }
 ],
 "metadata": {
  "kernelspec": {
   "display_name": "Python 3 (ipykernel)",
   "language": "python",
   "name": "python3"
  },
  "language_info": {
   "codemirror_mode": {
    "name": "ipython",
    "version": 3
   },
   "file_extension": ".py",
   "mimetype": "text/x-python",
   "name": "python",
   "nbconvert_exporter": "python",
   "pygments_lexer": "ipython3",
   "version": "3.7.9"
  }
 },
 "nbformat": 4,
 "nbformat_minor": 5
}
